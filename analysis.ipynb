{
 "cells": [
  {
   "cell_type": "code",
   "execution_count": null,
   "metadata": {},
   "outputs": [],
   "source": [
    "import numpy as np\n",
    "import matplotlib.pyplot as plt\n",
    "from astropy.table import Table\n",
    "from scipy.optimize import minimize\n",
    "from scipy.signal import medfilt\n",
    "from astropy import units as u\n",
    "from tqdm import tqdm_notebook\n",
    "from scipy.signal import find_peaks"
   ]
  },
  {
   "cell_type": "code",
   "execution_count": 19,
   "metadata": {},
   "outputs": [
    {
     "name": "stdout",
     "output_type": "stream",
     "text": [
      "The autoreload extension is already loaded. To reload it, use:\n",
      "  %reload_ext autoreload\n"
     ]
    }
   ],
   "source": [
    "%load_ext autoreload\n",
    "%autoreload 2\n",
    "import stella"
   ]
  },
  {
   "cell_type": "code",
   "execution_count": 2,
   "metadata": {},
   "outputs": [],
   "source": [
    "data = np.load('final_set.npy', allow_pickle=True)\n",
    "#CATALOG = Table.read('/Users/arcticfox/Documents/youngStars/final_southern_catalog.txt',\n",
    "#                    format='ascii')"
   ]
  },
  {
   "cell_type": "code",
   "execution_count": 3,
   "metadata": {},
   "outputs": [],
   "source": [
    "TICS = data[0]\n",
    "TIME = data[1]\n",
    "FLUX = data[2]\n",
    "ERR = data[3]\n",
    "PREDS = data[4]"
   ]
  },
  {
   "cell_type": "code",
   "execution_count": 4,
   "metadata": {},
   "outputs": [],
   "source": [
    "ff = stella.FitFlares(TICS, TIME, FLUX,ERR, PREDS)"
   ]
  },
  {
   "cell_type": "code",
   "execution_count": 20,
   "metadata": {},
   "outputs": [
    {
     "name": "stderr",
     "output_type": "stream",
     "text": [
      "Finding & Fitting Flares:   1%|          | 32/3372 [00:00<02:17, 24.36it/s]/Users/arcticfox/Documents/GitHub/stella/stella/mark_flares.py:179: RuntimeWarning: divide by zero encountered in true_divide\n",
      "  # REMOVES LOCAL STELLAR VARIABILITY TO FIT FLARE\n",
      "Finding & Fitting Flares:   9%|▉         | 313/3372 [00:10<01:32, 32.97it/s]/Users/arcticfox/Documents/GitHub/stella/stella/utils.py:36: RuntimeWarning: overflow encountered in exp\n",
      "  return amp * np.exp( -(time - t0) / fall ) + flux\n",
      "/Users/arcticfox/Documents/GitHub/stella/stella/mark_flares.py:119: RuntimeWarning: overflow encountered in square\n",
      "  return np.sum( (y-m)**2.0 / yerr**2.0 )\n",
      "//anaconda3/lib/python3.7/site-packages/scipy/optimize/optimize.py:697: RuntimeWarning: invalid value encountered in double_scalars\n",
      "  df = (f(*((xk + d,) + args)) - f0) / d[k]\n",
      "Finding & Fitting Flares:  75%|███████▍  | 2516/3372 [01:19<00:24, 34.56it/s]/Users/arcticfox/Documents/GitHub/stella/stella/utils.py:36: RuntimeWarning: overflow encountered in multiply\n",
      "  return amp * np.exp( -(time - t0) / fall ) + flux\n",
      "Finding & Fitting Flares: 100%|██████████| 3372/3372 [01:46<00:00, 31.59it/s]\n"
     ]
    }
   ],
   "source": [
    "ff.identify_flare_peaks()"
   ]
  },
  {
   "cell_type": "code",
   "execution_count": 25,
   "metadata": {},
   "outputs": [
    {
     "data": {
      "text/html": [
       "<i>Table length=25412</i>\n",
       "<table id=\"table5847500616\" class=\"table-striped table-bordered table-condensed\">\n",
       "<thead><tr><th>Target_ID</th><th>tpeak</th><th>amp</th><th>dur</th><th>rise</th><th>fall</th><th>prob</th></tr></thead>\n",
       "<thead><tr><th>float64</th><th>float64</th><th>float64</th><th>float64</th><th>float64</th><th>float64</th><th>float64</th></tr></thead>\n",
       "<tr><td>134947.0</td><td>1601.7483989534796</td><td>1.0163949120448559</td><td>0.06878532666536541</td><td>0.0001</td><td>0.0033867628010402365</td><td>0.6581094563007355</td></tr>\n",
       "<tr><td>134947.0</td><td>1602.402579493951</td><td>1.0734355219577587</td><td>0.06885061055717333</td><td>0.0001</td><td>0.0019237877228797378</td><td>1.0</td></tr>\n",
       "<tr><td>134947.0</td><td>1603.1470391214405</td><td>1.0318983595794284</td><td>0.07643261803604584</td><td>0.0001</td><td>0.0018664067157423787</td><td>0.9845796227455139</td></tr>\n",
       "<tr><td>134947.0</td><td>1604.0790016014837</td><td>1.0092909849309202</td><td>0.06876673452759088</td><td>0.0001</td><td>0.0025680767297813346</td><td>0.8574218153953552</td></tr>\n",
       "<tr><td>134947.0</td><td>1606.0109796937465</td><td>1.01262761676585</td><td>0.06876461619536584</td><td>0.0001</td><td>0.0013270387372043705</td><td>0.6022118031978607</td></tr>\n",
       "<tr><td>134947.0</td><td>1606.1234814866755</td><td>1.0743668403622861</td><td>0.06884698124437799</td><td>0.0001</td><td>0.0017957768295372358</td><td>1.0</td></tr>\n",
       "<tr><td>134947.0</td><td>1606.5970999322265</td><td>1.0280103034391757</td><td>0.06878290670368586</td><td>0.0001</td><td>0.001473453324395175</td><td>0.9986187815666199</td></tr>\n",
       "<tr><td>134947.0</td><td>1606.827658928786</td><td>1.0172897323486838</td><td>0.0701638217255538</td><td>0.0001</td><td>0.0019899374459804832</td><td>0.8240664899349213</td></tr>\n",
       "<tr><td>134947.0</td><td>1606.9151602117338</td><td>1.0205561368487543</td><td>0.0701748006571043</td><td>0.0001</td><td>0.002639331952893016</td><td>0.9998001456260681</td></tr>\n",
       "<tr><td>134947.0</td><td>1608.4457359362743</td><td>1.0319636561869538</td><td>0.06880075636072203</td><td>0.0001</td><td>0.00236407252616596</td><td>1.0</td></tr>\n",
       "<tr><td>...</td><td>...</td><td>...</td><td>...</td><td>...</td><td>...</td><td>...</td></tr>\n",
       "<tr><td>471012663.0</td><td>1357.2664259412131</td><td>1.0082693204119466</td><td>0.06945861517919502</td><td>0.0001</td><td>0.0021905875783477047</td><td>0.99983811378479</td></tr>\n",
       "<tr><td>471012663.0</td><td>1357.4580979336818</td><td>1.0129168063003298</td><td>0.06877722934343113</td><td>0.0001</td><td>0.0031770838757623986</td><td>1.0</td></tr>\n",
       "<tr><td>471012663.0</td><td>1358.4039567032753</td><td>1.007371647792435</td><td>0.06876541759129402</td><td>0.0001</td><td>0.002945901450823723</td><td>0.9942628443241119</td></tr>\n",
       "<tr><td>471012663.0</td><td>1362.479051903222</td><td>1.0077354634086184</td><td>0.0687639094846565</td><td>0.0001</td><td>0.0024678600330935965</td><td>0.9995383620262146</td></tr>\n",
       "<tr><td>471012663.0</td><td>1364.6443722535937</td><td>1.0174357591728937</td><td>0.06878546785140785</td><td>0.0001</td><td>0.003175779631536743</td><td>1.0</td></tr>\n",
       "<tr><td>471012663.0</td><td>1369.7430673130468</td><td>1.008169359215921</td><td>0.06876166905239678</td><td>0.0001</td><td>0.0019293203557594841</td><td>0.9845511019229889</td></tr>\n",
       "<tr><td>471012663.0</td><td>1374.7778093904146</td><td>1.0083931415364864</td><td>0.06876514641826273</td><td>0.0001</td><td>0.0028610666017159043</td><td>0.9999842047691345</td></tr>\n",
       "<tr><td>471012663.0</td><td>1375.0222537591073</td><td>1.012539743046849</td><td>0.06946571997141206</td><td>0.0001</td><td>0.0026436749972680697</td><td>1.0</td></tr>\n",
       "<tr><td>471012663.0</td><td>1376.5778069086743</td><td>1.0052254644391734</td><td>0.06875878721674378</td><td>0.0001</td><td>0.002676577705329704</td><td>0.9939950704574585</td></tr>\n",
       "<tr><td>471012663.0</td><td>1379.6652939124713</td><td>1.00721412213956</td><td>0.06876081013911596</td><td>0.0001</td><td>0.002336830402974289</td><td>0.9910877645015717</td></tr>\n",
       "</table>"
      ],
      "text/plain": [
       "<Table length=25412>\n",
       " Target_ID        tpeak        ...          fall                prob       \n",
       "  float64        float64       ...        float64             float64      \n",
       "----------- ------------------ ... --------------------- ------------------\n",
       "   134947.0 1601.7483989534796 ... 0.0033867628010402365 0.6581094563007355\n",
       "   134947.0  1602.402579493951 ... 0.0019237877228797378                1.0\n",
       "   134947.0 1603.1470391214405 ... 0.0018664067157423787 0.9845796227455139\n",
       "   134947.0 1604.0790016014837 ... 0.0025680767297813346 0.8574218153953552\n",
       "   134947.0 1606.0109796937465 ... 0.0013270387372043705 0.6022118031978607\n",
       "   134947.0 1606.1234814866755 ... 0.0017957768295372358                1.0\n",
       "   134947.0 1606.5970999322265 ...  0.001473453324395175 0.9986187815666199\n",
       "   134947.0  1606.827658928786 ... 0.0019899374459804832 0.8240664899349213\n",
       "   134947.0 1606.9151602117338 ...  0.002639331952893016 0.9998001456260681\n",
       "   134947.0 1608.4457359362743 ...   0.00236407252616596                1.0\n",
       "        ...                ... ...                   ...                ...\n",
       "471012663.0 1357.2664259412131 ... 0.0021905875783477047   0.99983811378479\n",
       "471012663.0 1357.4580979336818 ... 0.0031770838757623986                1.0\n",
       "471012663.0 1358.4039567032753 ...  0.002945901450823723 0.9942628443241119\n",
       "471012663.0  1362.479051903222 ... 0.0024678600330935965 0.9995383620262146\n",
       "471012663.0 1364.6443722535937 ...  0.003175779631536743                1.0\n",
       "471012663.0 1369.7430673130468 ... 0.0019293203557594841 0.9845511019229889\n",
       "471012663.0 1374.7778093904146 ... 0.0028610666017159043 0.9999842047691345\n",
       "471012663.0 1375.0222537591073 ... 0.0026436749972680697                1.0\n",
       "471012663.0 1376.5778069086743 ...  0.002676577705329704 0.9939950704574585\n",
       "471012663.0 1379.6652939124713 ...  0.002336830402974289 0.9910877645015717"
      ]
     },
     "execution_count": 25,
     "metadata": {},
     "output_type": "execute_result"
    }
   ],
   "source": [
    "ff.flare_table"
   ]
  },
  {
   "cell_type": "code",
   "execution_count": 27,
   "metadata": {
    "scrolled": true
   },
   "outputs": [
    {
     "name": "stderr",
     "output_type": "stream",
     "text": [
      "Finding most likely periods:  48%|████▊     | 1607/3372 [00:49<00:57, 30.56it/s]//anaconda3/lib/python3.7/site-packages/scipy/optimize/minpack.py:808: OptimizeWarning: Covariance of the parameters could not be estimated\n",
      "  category=OptimizeWarning)\n",
      "Finding most likely periods: 100%|██████████| 3372/3372 [01:52<00:00, 28.20it/s]\n",
      "Averaging over different sectors: 100%|██████████| 3372/3372 [00:00<00:00, 5112.09it/s]\n",
      "Getting Phases: 100%|██████████| 3372/3372 [00:54<00:00, 61.31it/s]\n"
     ]
    }
   ],
   "source": [
    "fts = stella.FindTheSpots(TICS, TIME, FLUX, ERR)\n",
    "fts.run_LS()\n",
    "fts.phase_lightcurve()"
   ]
  },
  {
   "cell_type": "code",
   "execution_count": null,
   "metadata": {},
   "outputs": [],
   "source": [
    "bad = np.unique([67801852, 111835484, 99211241,140072113, 148158540, 169468632,\n",
    "                 255134616, 259862349, 400445441, 129116176, 67801852, 111835484, \n",
    "                 99211241,140072113, 148158540, 169468632,\n",
    "                 255134616, 259862349, 400445441])"
   ]
  },
  {
   "cell_type": "code",
   "execution_count": 88,
   "metadata": {},
   "outputs": [],
   "source": [
    "peak_phase = np.array([])\n",
    "peak_amp   = np.array([])\n",
    "\n",
    "for i, tic in enumerate(fts.LS_results['Target_ID'].data):\n",
    "    flares = ff.flare_table[ff.flare_table['Target_ID']==tic]\n",
    "    peaks  = flares['tpeak'].data\n",
    "    amps   = flares['amp'].data\n",
    "    for a, p in zip(amps, peaks):\n",
    "        ti = np.where(fts.time[i] == p)[0]\n",
    "        if len(ti) > 0:\n",
    "            peak_phase = np.append(peak_phase, fts.phases[i][ti])\n",
    "            peak_amp   = np.append(peak_amp, a)\n",
    "#for i in range(len(TICS)):\n",
    "#    ind = np.where(TICS == TICS[i])[0][0]\n",
    "#    if fts.LS_results['flags'].data[i] == 1:\n",
    "#        subtable = ff.flare_table[ff.flare_table['Target_ID']==TICS[i]]\n",
    "#        for t in ff.flare_table[ff.flare_table['Target_ID']==TICS[i]]['tpeak']:\n",
    "#            ti = np.where(TIME[ind] == tpeak)[0]\n",
    "#            peak_phase = np.append(peak_phase, fts.phases[ind][ti])"
   ]
  },
  {
   "cell_type": "code",
   "execution_count": 101,
   "metadata": {},
   "outputs": [
    {
     "data": {
      "image/png": "[encoded data removed]",
      "text/plain": [
       "<Figure size 432x288 with 1 Axes>"
      ]
     },
     "metadata": {
      "needs_background": "light"
     },
     "output_type": "display_data"
    }
   ],
   "source": [
    "small = np.where(peak_amp-1<0.05)\n",
    "big = np.where(peak_amp-1 >= 0.05)\n",
    "\n",
    "plt.hist(peak_phase[small], bins=np.arange(-0.5,0.5,0.01))\n",
    "plt.hist(peak_phase[big], bins=np.arange(-0.5,0.5,0.01))\n",
    "\n",
    "plt.yscale('log')\n",
    "plt.show()"
   ]
  },
  {
   "cell_type": "code",
   "execution_count": null,
   "metadata": {},
   "outputs": [],
   "source": []
  },
  {
   "cell_type": "code",
   "execution_count": null,
   "metadata": {},
   "outputs": [],
   "source": []
  }
 ],
 "metadata": {
  "kernelspec": {
   "display_name": "Python 3",
   "language": "python",
   "name": "python3"
  },
  "language_info": {
   "codemirror_mode": {
    "name": "ipython",
    "version": 3
   },
   "file_extension": ".py",
   "mimetype": "text/x-python",
   "name": "python",
   "nbconvert_exporter": "python",
   "pygments_lexer": "ipython3",
   "version": "3.7.3"
  }
 },
 "nbformat": 4,
 "nbformat_minor": 2
}
