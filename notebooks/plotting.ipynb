{
 "cells": [
  {
   "cell_type": "code",
   "execution_count": 1,
   "metadata": {},
   "outputs": [
    {
     "name": "stderr",
     "output_type": "stream",
     "text": [
      "//anaconda3/lib/python3.7/site-packages/tensorflow/python/framework/dtypes.py:516: FutureWarning: Passing (type, 1) or '1type' as a synonym of type is deprecated; in a future version of numpy, it will be understood as (type, (1,)) / '(1,)type'.\n",
      "  _np_qint8 = np.dtype([(\"qint8\", np.int8, 1)])\n",
      "//anaconda3/lib/python3.7/site-packages/tensorflow/python/framework/dtypes.py:517: FutureWarning: Passing (type, 1) or '1type' as a synonym of type is deprecated; in a future version of numpy, it will be understood as (type, (1,)) / '(1,)type'.\n",
      "  _np_quint8 = np.dtype([(\"quint8\", np.uint8, 1)])\n",
      "//anaconda3/lib/python3.7/site-packages/tensorflow/python/framework/dtypes.py:518: FutureWarning: Passing (type, 1) or '1type' as a synonym of type is deprecated; in a future version of numpy, it will be understood as (type, (1,)) / '(1,)type'.\n",
      "  _np_qint16 = np.dtype([(\"qint16\", np.int16, 1)])\n",
      "//anaconda3/lib/python3.7/site-packages/tensorflow/python/framework/dtypes.py:519: FutureWarning: Passing (type, 1) or '1type' as a synonym of type is deprecated; in a future version of numpy, it will be understood as (type, (1,)) / '(1,)type'.\n",
      "  _np_quint16 = np.dtype([(\"quint16\", np.uint16, 1)])\n",
      "//anaconda3/lib/python3.7/site-packages/tensorflow/python/framework/dtypes.py:520: FutureWarning: Passing (type, 1) or '1type' as a synonym of type is deprecated; in a future version of numpy, it will be understood as (type, (1,)) / '(1,)type'.\n",
      "  _np_qint32 = np.dtype([(\"qint32\", np.int32, 1)])\n",
      "//anaconda3/lib/python3.7/site-packages/tensorflow/python/framework/dtypes.py:525: FutureWarning: Passing (type, 1) or '1type' as a synonym of type is deprecated; in a future version of numpy, it will be understood as (type, (1,)) / '(1,)type'.\n",
      "  np_resource = np.dtype([(\"resource\", np.ubyte, 1)])\n",
      "//anaconda3/lib/python3.7/site-packages/tensorboard/compat/tensorflow_stub/dtypes.py:541: FutureWarning: Passing (type, 1) or '1type' as a synonym of type is deprecated; in a future version of numpy, it will be understood as (type, (1,)) / '(1,)type'.\n",
      "  _np_qint8 = np.dtype([(\"qint8\", np.int8, 1)])\n",
      "//anaconda3/lib/python3.7/site-packages/tensorboard/compat/tensorflow_stub/dtypes.py:542: FutureWarning: Passing (type, 1) or '1type' as a synonym of type is deprecated; in a future version of numpy, it will be understood as (type, (1,)) / '(1,)type'.\n",
      "  _np_quint8 = np.dtype([(\"quint8\", np.uint8, 1)])\n",
      "//anaconda3/lib/python3.7/site-packages/tensorboard/compat/tensorflow_stub/dtypes.py:543: FutureWarning: Passing (type, 1) or '1type' as a synonym of type is deprecated; in a future version of numpy, it will be understood as (type, (1,)) / '(1,)type'.\n",
      "  _np_qint16 = np.dtype([(\"qint16\", np.int16, 1)])\n",
      "//anaconda3/lib/python3.7/site-packages/tensorboard/compat/tensorflow_stub/dtypes.py:544: FutureWarning: Passing (type, 1) or '1type' as a synonym of type is deprecated; in a future version of numpy, it will be understood as (type, (1,)) / '(1,)type'.\n",
      "  _np_quint16 = np.dtype([(\"quint16\", np.uint16, 1)])\n",
      "//anaconda3/lib/python3.7/site-packages/tensorboard/compat/tensorflow_stub/dtypes.py:545: FutureWarning: Passing (type, 1) or '1type' as a synonym of type is deprecated; in a future version of numpy, it will be understood as (type, (1,)) / '(1,)type'.\n",
      "  _np_qint32 = np.dtype([(\"qint32\", np.int32, 1)])\n",
      "//anaconda3/lib/python3.7/site-packages/tensorboard/compat/tensorflow_stub/dtypes.py:550: FutureWarning: Passing (type, 1) or '1type' as a synonym of type is deprecated; in a future version of numpy, it will be understood as (type, (1,)) / '(1,)type'.\n",
      "  np_resource = np.dtype([(\"resource\", np.ubyte, 1)])\n"
     ]
    }
   ],
   "source": [
    "import os, sys\n",
    "import numpy as np\n",
    "import matplotlib.pyplot as plt\n",
    "from astropy.table import Table, Column\n",
    "from scipy.optimize import minimize\n",
    "from scipy.signal import medfilt\n",
    "from astropy import units as uni\n",
    "from tqdm import tqdm_notebook\n",
    "from scipy.signal import find_peaks\n",
    "from astropy.timeseries import LombScargle\n",
    "from lightkurve.lightcurve import LightCurve as LC\n",
    "\n",
    "sys.path.insert(1, '/Users/arcticfox/Documents/GitHub/stella/')\n",
    "import stella"
   ]
  },
  {
   "cell_type": "code",
   "execution_count": 2,
   "metadata": {},
   "outputs": [],
   "source": [
    "from matplotlib.colors import LinearSegmentedColormap\n",
    "from pylab import *\n",
    "\n",
    "cm_data = [[0.2081, 0.1663, 0.5292], [0.2116238095, 0.1897809524, 0.5776761905], \n",
    " [0.212252381, 0.2137714286, 0.6269714286], [0.2081, 0.2386, 0.6770857143], \n",
    " [0.1959047619, 0.2644571429, 0.7279], [0.1707285714, 0.2919380952, \n",
    "  0.779247619], [0.1252714286, 0.3242428571, 0.8302714286], \n",
    " [0.0591333333, 0.3598333333, 0.8683333333], [0.0116952381, 0.3875095238, \n",
    "  0.8819571429], [0.0059571429, 0.4086142857, 0.8828428571], \n",
    " [0.0165142857, 0.4266, 0.8786333333], [0.032852381, 0.4430428571, \n",
    "  0.8719571429], [0.0498142857, 0.4585714286, 0.8640571429], \n",
    " [0.0629333333, 0.4736904762, 0.8554380952], [0.0722666667, 0.4886666667, \n",
    "  0.8467], [0.0779428571, 0.5039857143, 0.8383714286], \n",
    " [0.079347619, 0.5200238095, 0.8311809524], [0.0749428571, 0.5375428571, \n",
    "  0.8262714286], [0.0640571429, 0.5569857143, 0.8239571429], \n",
    " [0.0487714286, 0.5772238095, 0.8228285714], [0.0343428571, 0.5965809524, \n",
    "  0.819852381], [0.0265, 0.6137, 0.8135], [0.0238904762, 0.6286619048, \n",
    "  0.8037619048], [0.0230904762, 0.6417857143, 0.7912666667], \n",
    " [0.0227714286, 0.6534857143, 0.7767571429], [0.0266619048, 0.6641952381, \n",
    "  0.7607190476], [0.0383714286, 0.6742714286, 0.743552381], \n",
    " [0.0589714286, 0.6837571429, 0.7253857143], \n",
    " [0.0843, 0.6928333333, 0.7061666667], [0.1132952381, 0.7015, 0.6858571429], \n",
    " [0.1452714286, 0.7097571429, 0.6646285714], [0.1801333333, 0.7176571429, \n",
    "  0.6424333333], [0.2178285714, 0.7250428571, 0.6192619048], \n",
    " [0.2586428571, 0.7317142857, 0.5954285714], [0.3021714286, 0.7376047619, \n",
    "  0.5711857143], [0.3481666667, 0.7424333333, 0.5472666667], \n",
    " [0.3952571429, 0.7459, 0.5244428571], [0.4420095238, 0.7480809524, \n",
    "  0.5033142857], [0.4871238095, 0.7490619048, 0.4839761905], \n",
    " [0.5300285714, 0.7491142857, 0.4661142857], [0.5708571429, 0.7485190476, \n",
    "  0.4493904762], [0.609852381, 0.7473142857, 0.4336857143], \n",
    " [0.6473, 0.7456, 0.4188], [0.6834190476, 0.7434761905, 0.4044333333], \n",
    " [0.7184095238, 0.7411333333, 0.3904761905], \n",
    " [0.7524857143, 0.7384, 0.3768142857], [0.7858428571, 0.7355666667, \n",
    "  0.3632714286], [0.8185047619, 0.7327333333, 0.3497904762], \n",
    " [0.8506571429, 0.7299, 0.3360285714], [0.8824333333, 0.7274333333, 0.3217], \n",
    " [0.9139333333, 0.7257857143, 0.3062761905], [0.9449571429, 0.7261142857, \n",
    "  0.2886428571], [0.9738952381, 0.7313952381, 0.266647619], \n",
    " [0.9937714286, 0.7454571429, 0.240347619], [0.9990428571, 0.7653142857, \n",
    "  0.2164142857], [0.9955333333, 0.7860571429, 0.196652381], \n",
    " [0.988, 0.8066, 0.1793666667], [0.9788571429, 0.8271428571, 0.1633142857], \n",
    " [0.9697, 0.8481380952, 0.147452381], [0.9625857143, 0.8705142857, 0.1309], \n",
    " [0.9588714286, 0.8949, 0.1132428571], [0.9598238095, 0.9218333333, \n",
    "  0.0948380952], [0.9661, 0.9514428571, 0.0755333333], \n",
    " [0.9763, 0.9831, 0.0538]]\n",
    "\n",
    "parula = LinearSegmentedColormap.from_list('parula', cm_data)\n",
    "\n",
    "parula_colors = []\n",
    "cmap = cm.get_cmap(parula, 2)\n",
    "for i in range(cmap.N):\n",
    "    rgb = cmap(i)[:3]\n",
    "    parula_colors.append(matplotlib.colors.rgb2hex(rgb))\n",
    "parula_colors = np.array(parula_colors)"
   ]
  },
  {
   "cell_type": "code",
   "execution_count": 3,
   "metadata": {},
   "outputs": [],
   "source": [
    "from pylab import *\n",
    "colormap='viridis'\n",
    "\n",
    "cmap = cm.get_cmap(colormap, 13)\n",
    "colors = []\n",
    "for i in range(cmap.N):\n",
    "    rgb = cmap(i)[:3]\n",
    "    colors.append(matplotlib.colors.rgb2hex(rgb))\n",
    "colors = np.array(colors)\n",
    "\n",
    "colormap='inferno'\n",
    "cmap = cm.get_cmap(colormap, 13)\n",
    "acolors = []\n",
    "for i in range(cmap.N):\n",
    "    rgb = cmap(i)[:3]\n",
    "    acolors.append(matplotlib.colors.rgb2hex(rgb))\n",
    "acolors = np.array(acolors)\n",
    "\n",
    "smallc = colors[1]\n",
    "largec = colors[8]\n",
    "\n",
    "smallca = acolors[5]\n",
    "largeca = acolors[10]"
   ]
  },
  {
   "cell_type": "code",
   "execution_count": 4,
   "metadata": {},
   "outputs": [
    {
     "name": "stderr",
     "output_type": "stream",
     "text": [
      "WARNING: OverflowError converting to FloatType in column YA_prob, possibly resulting in degraded precision. [astropy.io.ascii.fastbasic]\n",
      "WARNING: Logging before flag parsing goes to stderr.\n",
      "W0721 12:43:33.190935 4500448704 logger.py:204] OverflowError converting to FloatType in column YA_prob, possibly resulting in degraded precision.\n"
     ]
    }
   ],
   "source": [
    "data_dir = '/Users/arcticfox/Documents/flares/youngstar_pred/'\n",
    "\n",
    "data = np.load(os.path.join(data_dir, 'pred_light_curves.npy'), allow_pickle=True)\n",
    "TIME = data[0]#[0:200]\n",
    "FLUX = data[1]#[0:200]\n",
    "ERR = data[2]#[0:200]\n",
    "\n",
    "QUAL = np.load(os.path.join(data_dir, 'qual.npy'), allow_pickle=True)\n",
    "\n",
    "CATALOG = Table.read(os.path.join(data_dir, 'total_table.txt'),\n",
    "                    format='ascii')\n",
    "\n",
    "PREDS = np.load(os.path.join(data_dir, 'average_predictions.npy'),\n",
    "                allow_pickle=True)\n",
    "TICS = np.load(os.path.join(data_dir, 'tics.npy'), allow_pickle=True)"
   ]
  },
  {
   "cell_type": "code",
   "execution_count": 5,
   "metadata": {},
   "outputs": [
    {
     "data": {
      "application/vnd.jupyter.widget-view+json": {
       "model_id": "5edf86fadf284141bc2135137589eeaf",
       "version_major": 2,
       "version_minor": 0
      },
      "text/plain": [
       "HBox(children=(IntProgress(value=0, max=5112), HTML(value='')))"
      ]
     },
     "metadata": {},
     "output_type": "display_data"
    },
    {
     "name": "stdout",
     "output_type": "stream",
     "text": [
      "\n"
     ]
    }
   ],
   "source": [
    "QTIME, QFLUX, QERR, QPRED = [], [] , [], []\n",
    "\n",
    "for i in tqdm_notebook(range(len(TICS))):\n",
    "#    init_per = fts.LS_results['period_days'].data[i]\n",
    "    mask = QUAL[i]+0.0#np.zeros(len(FLUX[i]))\n",
    "\n",
    "    diff_time = np.diff(TIME[i])\n",
    "    orbit = np.where(diff_time >= np.nanmedian(diff_time)+12*np.nanstd(diff_time))\n",
    "    orbit = orbit[0][0]\n",
    "    \n",
    "   # real_high = np.where(FLUX[i] > 2.0)[0]\n",
    "    \n",
    "    mask[0:500] = 1\n",
    "    mask[orbit:orbit+800]=1\n",
    "    mask[len(FLUX[i])-50:] = 1\n",
    "    \n",
    "  #  mask[real_high] = 1\n",
    "\n",
    "    q = (mask == 0)\n",
    "    \n",
    "   # if np.nanstd(FLUX[i][q]) > 0.1:\n",
    "   #     mask[orbit:orbit+500] = 1\n",
    "        \n",
    "   # q = ((mask == 0) | (mask == 512))\n",
    "\n",
    "    lk = LC(time=TIME[i][q], flux=FLUX[i][q], \n",
    "            flux_err=ERR[i][q])\n",
    "    \n",
    "    QTIME.append(lk.time)\n",
    "    QFLUX.append(lk.flux)\n",
    "    QERR.append(np.ones(len(lk.flux)))\n",
    "    QPRED.append(PREDS[i][q])\n",
    "    \n",
    "QTIME = np.array(QTIME)\n",
    "QFLUX = np.array(QFLUX)\n",
    "QERR = np.array(QERR)\n",
    "QPRED = np.array(QPRED)"
   ]
  },
  {
   "cell_type": "code",
   "execution_count": 6,
   "metadata": {},
   "outputs": [],
   "source": [
    "TICS = np.array([int(i) for i in TICS])"
   ]
  },
  {
   "cell_type": "code",
   "execution_count": 7,
   "metadata": {},
   "outputs": [],
   "source": [
    "np.save(os.path.join(data_dir, 'qflagged_data.npy'), [TICS,\n",
    "                                                      QTIME,\n",
    "                                                      QFLUX,\n",
    "                                                      QERR,\n",
    "                                                      QPRED])"
   ]
  },
  {
   "cell_type": "markdown",
   "metadata": {},
   "source": [
    "## Identifies flares"
   ]
  },
  {
   "cell_type": "code",
   "execution_count": 8,
   "metadata": {},
   "outputs": [],
   "source": [
    "%load_ext autoreload\n",
    "%autoreload 2\n",
    "import stella"
   ]
  },
  {
   "cell_type": "code",
   "execution_count": 9,
   "metadata": {},
   "outputs": [
    {
     "data": {
      "text/plain": [
       "['/Users/arcticfox/Documents/GitHub/stella/stella']"
      ]
     },
     "execution_count": 9,
     "metadata": {},
     "output_type": "execute_result"
    }
   ],
   "source": [
    "stella.__path__"
   ]
  },
  {
   "cell_type": "code",
   "execution_count": 10,
   "metadata": {},
   "outputs": [],
   "source": [
    "inds = np.arange(0, len(TICS),1,dtype=int)\n",
    "ff = stella.FitFlares(TICS[inds], \n",
    "                      QTIME[inds], \n",
    "                      QFLUX[inds], \n",
    "                      QERR[inds], \n",
    "                      QPRED[inds])"
   ]
  },
  {
   "cell_type": "code",
   "execution_count": 11,
   "metadata": {
    "scrolled": true
   },
   "outputs": [
    {
     "name": "stderr",
     "output_type": "stream",
     "text": [
      "Finding & Fitting Flares:   1%|          | 48/5112 [00:03<06:06, 13.83it/s] /Users/arcticfox/Documents/GitHub/stella/stella/mark_flares.py:226: RuntimeWarning: divide by zero encountered in true_divide\n",
      "  detrended = subf/func(subt)\n",
      "//anaconda3/lib/python3.7/site-packages/numpy/core/fromnumeric.py:90: RuntimeWarning: invalid value encountered in reduce\n",
      "  return ufunc.reduce(obj, axis, dtype, out, **passkwargs)\n",
      "/Users/arcticfox/Documents/GitHub/stella/stella/mark_flares.py:230: RuntimeWarning: divide by zero encountered in true_divide\n",
      "  detrend_with_flare = subf/func1(subt)\n",
      "Finding & Fitting Flares:  10%|█         | 531/5112 [00:32<02:25, 31.51it/s]//anaconda3/lib/python3.7/site-packages/numpy/lib/nanfunctions.py:1541: RuntimeWarning: invalid value encountered in subtract\n",
      "  np.subtract(arr, avg, out=arr, casting='unsafe')\n",
      "Finding & Fitting Flares: 100%|██████████| 5112/5112 [05:43<00:00, 14.89it/s]\n"
     ]
    }
   ],
   "source": [
    "ff.identify_flare_peaks()"
   ]
  },
  {
   "cell_type": "code",
   "execution_count": 12,
   "metadata": {},
   "outputs": [
    {
     "data": {
      "text/html": [
       "<i>Table length=60759</i>\n",
       "<table id=\"table5281032344\" class=\"table-striped table-bordered table-condensed\">\n",
       "<thead><tr><th>Target_ID</th><th>tpeak</th><th>amp</th><th>ed_s</th><th>rise</th><th>fall</th><th>prob</th></tr></thead>\n",
       "<thead><tr><th>float64</th><th>float64</th><th>float64</th><th>float64</th><th>float64</th><th>float64</th><th>float64</th></tr></thead>\n",
       "<tr><td>81003.0</td><td>1600.2248090737228</td><td>1.0038362483706431</td><td>2.3993805969951087</td><td>0.0001</td><td>0.006009677049153073</td><td>0.6317337453365326</td></tr>\n",
       "<tr><td>81003.0</td><td>1600.2678654934023</td><td>1.004518785275191</td><td>4.547988334466714</td><td>0.0001</td><td>0.01</td><td>0.8830907046794891</td></tr>\n",
       "<tr><td>81003.0</td><td>1600.366478577508</td><td>1.0075026175672257</td><td>6.340739034762845</td><td>0.0001</td><td>0.008317664509392251</td><td>0.9718687534332275</td></tr>\n",
       "<tr><td>81003.0</td><td>1600.4095349925308</td><td>1.005370406852823</td><td>3.9775026121865373</td><td>0.0001</td><td>0.0075390680375499106</td><td>0.9719749987125397</td></tr>\n",
       "<tr><td>81003.0</td><td>1600.5484266419546</td><td>1.0036300011787114</td><td>3.7840515184437216</td><td>0.0001</td><td>0.01</td><td>0.8896560072898865</td></tr>\n",
       "<tr><td>81003.0</td><td>1600.6442618702997</td><td>1.0049684005790671</td><td>3.7753189220623655</td><td>0.0001</td><td>0.00842240329340836</td><td>0.6992391049861908</td></tr>\n",
       "<tr><td>81003.0</td><td>1600.6900961070894</td><td>1.0068398520432478</td><td>6.774803817766896</td><td>0.0001</td><td>0.01</td><td>0.9954666495323181</td></tr>\n",
       "<tr><td>81003.0</td><td>1600.7900980720426</td><td>1.0055491912451924</td><td>4.413855772688526</td><td>0.0001</td><td>0.008387620497803954</td><td>0.8532602190971375</td></tr>\n",
       "<tr><td>81003.0</td><td>1600.9637125720049</td><td>1.0060763748512487</td><td>5.906354250486107</td><td>0.0001</td><td>0.01</td><td>0.9551175236701965</td></tr>\n",
       "<tr><td>81003.0</td><td>1601.063714510881</td><td>1.006118924176942</td><td>6.159739110300018</td><td>0.0001</td><td>0.01</td><td>0.9718460142612457</td></tr>\n",
       "<tr><td>...</td><td>...</td><td>...</td><td>...</td><td>...</td><td>...</td><td>...</td></tr>\n",
       "<tr><td>622285940.0</td><td>1808.3877011888978</td><td>1.1915842758438486</td><td>183.38644069025108</td><td>0.0001</td><td>0.01</td><td>1.0</td></tr>\n",
       "<tr><td>622285940.0</td><td>1808.7876931598314</td><td>1.0082837274352938</td><td>1.706729489750463</td><td>0.0001</td><td>0.0015794474086122696</td><td>0.9430443644523621</td></tr>\n",
       "<tr><td>622285940.0</td><td>1809.4571235816645</td><td>1.0037982839988415</td><td>1.6630799448620213</td><td>0.0001</td><td>0.004178347581069586</td><td>0.6814432740211487</td></tr>\n",
       "<tr><td>622285940.0</td><td>1810.4029358924147</td><td>1.0195257148797066</td><td>7.643596186900713</td><td>0.0001</td><td>0.003859326616358578</td><td>0.9999977648258209</td></tr>\n",
       "<tr><td>622285940.0</td><td>1810.7751494649203</td><td>1.006065012231198</td><td>2.2931895674413485</td><td>0.0001</td><td>0.003889114774925707</td><td>0.711846113204956</td></tr>\n",
       "<tr><td>622285940.0</td><td>1811.8195685545954</td><td>1.0104882327221538</td><td>7.235269534483523</td><td>0.0001</td><td>0.0071231254507662795</td><td>0.9999997615814209</td></tr>\n",
       "<tr><td>622285940.0</td><td>1812.895929759047</td><td>1.0034463131021751</td><td>1.1130200684113127</td><td>0.0001</td><td>0.002833585099821074</td><td>0.5698815733194351</td></tr>\n",
       "<tr><td>622285940.0</td><td>1813.8820143944722</td><td>1.0049485354309777</td><td>2.9314314894969518</td><td>0.0001</td><td>0.006432307794357312</td><td>0.544831857085228</td></tr>\n",
       "<tr><td>703790009.0</td><td>1854.0119606311607</td><td>1.0021420780242758</td><td>0.6320971871396334</td><td>0.0001</td><td>0.002625314402388242</td><td>0.5095107406377792</td></tr>\n",
       "<tr><td>703790009.0</td><td>1861.2382068837815</td><td>1.002530553232978</td><td>0.5544911685933231</td><td>0.0001</td><td>0.0016695786896237406</td><td>0.8156046867370605</td></tr>\n",
       "</table>"
      ],
      "text/plain": [
       "<Table length=60759>\n",
       " Target_ID        tpeak        ...          fall                prob       \n",
       "  float64        float64       ...        float64             float64      \n",
       "----------- ------------------ ... --------------------- ------------------\n",
       "    81003.0 1600.2248090737228 ...  0.006009677049153073 0.6317337453365326\n",
       "    81003.0 1600.2678654934023 ...                  0.01 0.8830907046794891\n",
       "    81003.0  1600.366478577508 ...  0.008317664509392251 0.9718687534332275\n",
       "    81003.0 1600.4095349925308 ... 0.0075390680375499106 0.9719749987125397\n",
       "    81003.0 1600.5484266419546 ...                  0.01 0.8896560072898865\n",
       "    81003.0 1600.6442618702997 ...   0.00842240329340836 0.6992391049861908\n",
       "    81003.0 1600.6900961070894 ...                  0.01 0.9954666495323181\n",
       "    81003.0 1600.7900980720426 ...  0.008387620497803954 0.8532602190971375\n",
       "    81003.0 1600.9637125720049 ...                  0.01 0.9551175236701965\n",
       "    81003.0  1601.063714510881 ...                  0.01 0.9718460142612457\n",
       "        ...                ... ...                   ...                ...\n",
       "622285940.0 1808.3877011888978 ...                  0.01                1.0\n",
       "622285940.0 1808.7876931598314 ... 0.0015794474086122696 0.9430443644523621\n",
       "622285940.0 1809.4571235816645 ...  0.004178347581069586 0.6814432740211487\n",
       "622285940.0 1810.4029358924147 ...  0.003859326616358578 0.9999977648258209\n",
       "622285940.0 1810.7751494649203 ...  0.003889114774925707  0.711846113204956\n",
       "622285940.0 1811.8195685545954 ... 0.0071231254507662795 0.9999997615814209\n",
       "622285940.0  1812.895929759047 ...  0.002833585099821074 0.5698815733194351\n",
       "622285940.0 1813.8820143944722 ...  0.006432307794357312  0.544831857085228\n",
       "703790009.0 1854.0119606311607 ...  0.002625314402388242 0.5095107406377792\n",
       "703790009.0 1861.2382068837815 ... 0.0016695786896237406 0.8156046867370605"
      ]
     },
     "execution_count": 12,
     "metadata": {},
     "output_type": "execute_result"
    }
   ],
   "source": [
    "ff.flare_table"
   ]
  },
  {
   "cell_type": "code",
   "execution_count": 13,
   "metadata": {},
   "outputs": [
    {
     "data": {
      "text/plain": [
       "[<matplotlib.lines.Line2D at 0x377652080>]"
      ]
     },
     "execution_count": 13,
     "metadata": {},
     "output_type": "execute_result"
    },
    {
     "data": {
      "image/png": "[encoded data removed]",
      "text/plain": [
       "<Figure size 432x288 with 1 Axes>"
      ]
     },
     "metadata": {
      "needs_background": "light"
     },
     "output_type": "display_data"
    }
   ],
   "source": [
    "%matplotlib inline\n",
    "plt.plot(ff.flare_table['amp'], ff.flare_table['ed_s'], '.')"
   ]
  },
  {
   "cell_type": "code",
   "execution_count": 17,
   "metadata": {},
   "outputs": [
    {
     "data": {
      "text/html": [
       "<i>Table length=31172</i>\n",
       "<table id=\"table5862327184\" class=\"table-striped table-bordered table-condensed\">\n",
       "<thead><tr><th>Target_ID</th><th>tpeak</th><th>amp</th><th>ed_s</th><th>rise</th><th>fall</th><th>prob</th></tr></thead>\n",
       "<thead><tr><th>float64</th><th>float64</th><th>float64</th><th>float64</th><th>float64</th><th>float64</th><th>float64</th></tr></thead>\n",
       "<tr><td>81003.0</td><td>1600.366478577508</td><td>1.0075026175672257</td><td>6.340739034762845</td><td>0.0001</td><td>0.008317664509392251</td><td>0.9718687534332275</td></tr>\n",
       "<tr><td>81003.0</td><td>1601.116493307906</td><td>1.0070102999587849</td><td>4.3668323251820125</td><td>0.0001</td><td>0.0065053631054290935</td><td>0.7851312458515167</td></tr>\n",
       "<tr><td>81003.0</td><td>1601.3928874893465</td><td>1.0071216354309058</td><td>6.68817407297154</td><td>0.0001</td><td>0.009856604455786547</td><td>0.9913956522941589</td></tr>\n",
       "<tr><td>81003.0</td><td>1601.5331679232243</td><td>1.0085286225969898</td><td>8.353149681734862</td><td>0.0001</td><td>0.01</td><td>0.9989019632339478</td></tr>\n",
       "<tr><td>81003.0</td><td>1602.0984561867274</td><td>1.00765267060213</td><td>7.933691431677459</td><td>0.0001</td><td>0.01</td><td>0.9754332005977631</td></tr>\n",
       "<tr><td>81003.0</td><td>1602.5637423213623</td><td>1.0070634316471496</td><td>4.985844480536142</td><td>0.0001</td><td>0.007103129629500172</td><td>0.9908836483955383</td></tr>\n",
       "<tr><td>81003.0</td><td>1606.5943583337855</td><td>1.007906530864681</td><td>4.858655827301767</td><td>0.0001</td><td>0.006361190712494801</td><td>0.8586565554141998</td></tr>\n",
       "<tr><td>81003.0</td><td>1607.7249264057498</td><td>1.0078344096442169</td><td>7.44141289644984</td><td>0.0001</td><td>0.01</td><td>0.9961515069007874</td></tr>\n",
       "<tr><td>81003.0</td><td>1608.4235440035907</td><td>1.0071922072616755</td><td>4.665646914623703</td><td>0.0001</td><td>0.006444429167088329</td><td>0.9569040536880493</td></tr>\n",
       "<tr><td>81003.0</td><td>1615.1235353727714</td><td>1.0079438739917161</td><td>5.661551567377433</td><td>0.0001</td><td>0.0069905360949461485</td><td>0.9645071029663086</td></tr>\n",
       "<tr><td>...</td><td>...</td><td>...</td><td>...</td><td>...</td><td>...</td><td>...</td></tr>\n",
       "<tr><td>622285940.0</td><td>1794.9294868643444</td><td>1.0114196878719282</td><td>2.2691603108600487</td><td>0.0001</td><td>0.0014948412017721463</td><td>0.9861443936824799</td></tr>\n",
       "<tr><td>622285940.0</td><td>1794.9878201758663</td><td>1.0132279463946186</td><td>12.258449389644094</td><td>0.0001</td><td>0.01</td><td>0.9999315142631531</td></tr>\n",
       "<tr><td>622285940.0</td><td>1797.13642649285</td><td>1.0284070888785644</td><td>14.529803022343005</td><td>0.0001</td><td>0.0052957872344824184</td><td>1.0</td></tr>\n",
       "<tr><td>622285940.0</td><td>1798.807251056625</td><td>1.0101116158274193</td><td>5.581505429880213</td><td>0.0001</td><td>0.0054218168121611746</td><td>0.999949187040329</td></tr>\n",
       "<tr><td>622285940.0</td><td>1805.0030352975725</td><td>1.0699970794483782</td><td>22.4987551935514</td><td>0.0001</td><td>0.002890747929510197</td><td>1.0</td></tr>\n",
       "<tr><td>622285940.0</td><td>1808.0752072751095</td><td>1.007862862905264</td><td>4.936741198814533</td><td>0.0001</td><td>0.006786460309332577</td><td>0.9812018275260925</td></tr>\n",
       "<tr><td>622285940.0</td><td>1808.3877011888978</td><td>1.1915842758438486</td><td>183.38644069025108</td><td>0.0001</td><td>0.01</td><td>1.0</td></tr>\n",
       "<tr><td>622285940.0</td><td>1808.7876931598314</td><td>1.0082837274352938</td><td>1.706729489750463</td><td>0.0001</td><td>0.0015794474086122696</td><td>0.9430443644523621</td></tr>\n",
       "<tr><td>622285940.0</td><td>1810.4029358924147</td><td>1.0195257148797066</td><td>7.643596186900713</td><td>0.0001</td><td>0.003859326616358578</td><td>0.9999977648258209</td></tr>\n",
       "<tr><td>622285940.0</td><td>1811.8195685545954</td><td>1.0104882327221538</td><td>7.235269534483523</td><td>0.0001</td><td>0.0071231254507662795</td><td>0.9999997615814209</td></tr>\n",
       "</table>"
      ],
      "text/plain": [
       "<Table length=31172>\n",
       " Target_ID        tpeak        ...          fall                prob       \n",
       "  float64        float64       ...        float64             float64      \n",
       "----------- ------------------ ... --------------------- ------------------\n",
       "    81003.0  1600.366478577508 ...  0.008317664509392251 0.9718687534332275\n",
       "    81003.0  1601.116493307906 ... 0.0065053631054290935 0.7851312458515167\n",
       "    81003.0 1601.3928874893465 ...  0.009856604455786547 0.9913956522941589\n",
       "    81003.0 1601.5331679232243 ...                  0.01 0.9989019632339478\n",
       "    81003.0 1602.0984561867274 ...                  0.01 0.9754332005977631\n",
       "    81003.0 1602.5637423213623 ...  0.007103129629500172 0.9908836483955383\n",
       "    81003.0 1606.5943583337855 ...  0.006361190712494801 0.8586565554141998\n",
       "    81003.0 1607.7249264057498 ...                  0.01 0.9961515069007874\n",
       "    81003.0 1608.4235440035907 ...  0.006444429167088329 0.9569040536880493\n",
       "    81003.0 1615.1235353727714 ... 0.0069905360949461485 0.9645071029663086\n",
       "        ...                ... ...                   ...                ...\n",
       "622285940.0 1794.9294868643444 ... 0.0014948412017721463 0.9861443936824799\n",
       "622285940.0 1794.9878201758663 ...                  0.01 0.9999315142631531\n",
       "622285940.0   1797.13642649285 ... 0.0052957872344824184                1.0\n",
       "622285940.0  1798.807251056625 ... 0.0054218168121611746  0.999949187040329\n",
       "622285940.0 1805.0030352975725 ...  0.002890747929510197                1.0\n",
       "622285940.0 1808.0752072751095 ...  0.006786460309332577 0.9812018275260925\n",
       "622285940.0 1808.3877011888978 ...                  0.01                1.0\n",
       "622285940.0 1808.7876931598314 ... 0.0015794474086122696 0.9430443644523621\n",
       "622285940.0 1810.4029358924147 ...  0.003859326616358578 0.9999977648258209\n",
       "622285940.0 1811.8195685545954 ... 0.0071231254507662795 0.9999997615814209"
      ]
     },
     "execution_count": 17,
     "metadata": {},
     "output_type": "execute_result"
    }
   ],
   "source": [
    "ff.flare_table[ff.flare_table['amp']>=1.007]"
   ]
  },
  {
   "cell_type": "markdown",
   "metadata": {},
   "source": [
    "## Maps phases"
   ]
  },
  {
   "cell_type": "code",
   "execution_count": null,
   "metadata": {
    "scrolled": true
   },
   "outputs": [],
   "source": [
    "fts = stella.MeasureProt(TICS, QTIME, QFLUX, QERR)\n",
    "fts.run_LS()"
   ]
  },
  {
   "cell_type": "code",
   "execution_count": null,
   "metadata": {},
   "outputs": [],
   "source": [
    "fts.LS_results.write(os.path.join(data_dir, 'basic_LS_table.txt'), format='ascii')"
   ]
  },
  {
   "cell_type": "code",
   "execution_count": null,
   "metadata": {},
   "outputs": [],
   "source": [
    "#array([  7785194, 144126052, 152505948, 165909066, 179315999, 232970271,\n",
    "#       261335869, 295317497, 349055504, 404484288])\n",
    "fts.LS_results[fts.LS_results['Target_ID']==373432787]"
   ]
  },
  {
   "cell_type": "code",
   "execution_count": null,
   "metadata": {},
   "outputs": [],
   "source": [
    "fts.phase_lightcurve()"
   ]
  },
  {
   "cell_type": "code",
   "execution_count": null,
   "metadata": {},
   "outputs": [],
   "source": [
    "np.save(os.path.join(data_dir, 'phases.npy'), fts.phases)"
   ]
  },
  {
   "cell_type": "markdown",
   "metadata": {},
   "source": [
    "## Looking at flares over entire light curve for each star"
   ]
  },
  {
   "cell_type": "code",
   "execution_count": null,
   "metadata": {},
   "outputs": [],
   "source": [
    "fts.LS_results = Table.read(os.path.join(data_dir, 'basic_LS_table.txt'), format='ascii')"
   ]
  },
  {
   "cell_type": "code",
   "execution_count": null,
   "metadata": {},
   "outputs": [],
   "source": [
    "tot_time = np.zeros(len(fts.LS_results))\n",
    "n_small = np.zeros(len(fts.LS_results))\n",
    "n_large = np.zeros(len(fts.LS_results))\n",
    "weighted_rate = np.zeros(len(fts.LS_results))\n",
    "\n",
    "for i in range(len(fts.LS_results)):\n",
    "    tic = fts.LS_results['Target_ID'].data[i]\n",
    "    inds = np.where(TICS == tic)[0]\n",
    "    tt = 0\n",
    "    for n in inds:\n",
    "        ttime = len(QTIME[n]) * 2 * uni.min\n",
    "        ttime = ttime.to(uni.day)\n",
    "        tt += ttime.value\n",
    "    tot_time[i] = tt\n",
    "    \n",
    "    flare_amps = ff.flare_table[ff.flare_table['Target_ID']==tic]#['amp'].data\n",
    "    flare_prob = ff.flare_table[ff.flare_table['Target_ID']==tic]['prob'].data\n",
    "    if len(flare_prob) > 0:\n",
    "        weighted_rate[i] = np.nansum(flare_prob)\n",
    "        \n",
    "    if len(flare_amps[flare_amps['amp'] < 1.05])/tt < 1.01:\n",
    "        n_small[i] = len(flare_amps[flare_amps['amp'] < 1.05]['amp'])\n",
    "        weighted_rate[i] = np.nansum(flare_amps[flare_amps['amp'] < 1.05]['prob'])\n",
    "        \n",
    "    if len(flare_amps[flare_amps['amp'] > 1.05])/tt < 1.01:\n",
    "        n_large[i] = len(flare_amps[flare_amps['amp'] >= 1.05]['amp'])\n",
    "        weighted_rate[i] = np.nansum(flare_amps[flare_amps['amp'] >= 1.05]['prob'])\n",
    "        \n",
    "fts.LS_results.add_column(Column(tot_time, 'total_observed_time'))\n",
    "fts.LS_results.add_column(Column(n_small, 'Nflares_small'))\n",
    "fts.LS_results.add_column(Column(n_large, 'Nflares_large'))\n",
    "fts.LS_results.add_column(Column(weighted_rate/tot_time, 'weighted_rate'))"
   ]
  },
  {
   "cell_type": "code",
   "execution_count": null,
   "metadata": {},
   "outputs": [],
   "source": [
    "maxflare = np.zeros(len(fts.LS_results))\n",
    "maxflareE = np.zeros(len(fts.LS_results))\n",
    "    \n",
    "for i, tic in enumerate(fts.LS_results['Target_ID']):\n",
    "    flares = np.where(ff.flare_table['Target_ID'] == float(tic))[0]\n",
    "    try:\n",
    "        maxflare[i] = np.nanmax(ff.flare_table['amp'].data[flares])\n",
    "    except:\n",
    "        pass\n",
    "\n",
    "fts.LS_results.add_column(Column(maxflare, 'max_amp'))\n",
    "\n",
    "## Reads in table for ages"
   ]
  },
  {
   "cell_type": "code",
   "execution_count": null,
   "metadata": {},
   "outputs": [],
   "source": [
    "names = np.loadtxt('/Users/arcticfox/Documents/youngStars/group_age.txt', usecols=(0,),\n",
    "                  dtype='U55')\n",
    "ages = np.loadtxt('/Users/arcticfox/Documents/youngStars/group_age.txt', usecols=(1,))\n",
    "ymg_dict = {}\n",
    "for i in range(len(ages)):\n",
    "    ymg_dict[names[i]] = ages[i]"
   ]
  },
  {
   "cell_type": "code",
   "execution_count": null,
   "metadata": {},
   "outputs": [],
   "source": [
    "tic_tab = Table.read(os.path.join(data_dir, 'test.txt'), format='ascii')"
   ]
  },
  {
   "cell_type": "code",
   "execution_count": null,
   "metadata": {},
   "outputs": [],
   "source": [
    "ymg_age, ymg = np.zeros(len(fts.LS_results)), np.zeros(len(fts.LS_results), dtype='U10') \n",
    "teffs = np.zeros(len(fts.LS_results))\n",
    "tmag = np.zeros(len(fts.LS_results))\n",
    "gaia_rp, gaia_bp = np.zeros(len(fts.LS_results)), np.zeros(len(fts.LS_results))\n",
    "for i in range(len(fts.LS_results['Target_ID'])):\n",
    "    tic = fts.LS_results['Target_ID'].data[i]\n",
    "    ind = np.where(CATALOG['TIC']==tic)[0]\n",
    "    ind_new = np.where(tic_tab['Target_ID']==tic)[0]\n",
    "    if len(ind) >= 1:\n",
    "        ymg_age[i] = ymg_dict[CATALOG['Best_hyp'].data[ind][0]]\n",
    "        ymg[i] = CATALOG['Best_hyp'].data[ind][0]\n",
    "        teffs[i] = tic_tab['TIC_Teff'].data[ind_new][0]\n",
    "        tmag[i] = tic_tab['Tmag'].data[ind_new][0]\n",
    "        gaia_rp[i] = tic_tab['Gaia_Rp'].data[ind_new][0]\n",
    "        gaia_bp[i] = tic_tab['Gaia_Bp'].data[ind_new][0]\n",
    "        if ymg[i] == 'FIELD':\n",
    "            ymg[i] = 'None'\n",
    "            ymg_age[i] = 0\n",
    "            teffs[i] = 0\n",
    "    else:\n",
    "        ymg_age[i] = 0\n",
    "        ymg[i] = 'None'\n",
    "        teffs[i] = 0"
   ]
  },
  {
   "cell_type": "markdown",
   "metadata": {},
   "source": [
    "## Adds age columns"
   ]
  },
  {
   "cell_type": "code",
   "execution_count": null,
   "metadata": {},
   "outputs": [],
   "source": [
    "fts.LS_results.add_column(Column(ymg_age, 'YMG_age'))\n",
    "fts.LS_results.add_column(Column(ymg, 'YMG'))\n",
    "fts.LS_results.add_column(Column(teffs, 'teff_val'))\n",
    "fts.LS_results.add_column(Column(tmag, 'Tmag'))\n",
    "fts.LS_results.add_column(Column(gaia_rp,'Bp'))\n",
    "fts.LS_results.add_column(Column(gaia_bp,'Rp'))"
   ]
  },
  {
   "cell_type": "code",
   "execution_count": null,
   "metadata": {},
   "outputs": [],
   "source": [
    "temptable = Table.read(os.path.join(data_dir, 'new_master_rot_table.tab'), \n",
    "                   format='ascii')\n",
    "#for colname in temptable.colnames:\n",
    "#    if colname not in fts.LS_results.colnames:\n",
    "#        fts.LS_results.add_column(Column(temptable[colname], colname))"
   ]
  },
  {
   "cell_type": "code",
   "execution_count": null,
   "metadata": {},
   "outputs": [],
   "source": [
    "fts.LS_results.write(os.path.join(data_dir, 'og_fts_table.txt'), format='ascii')"
   ]
  },
  {
   "cell_type": "code",
   "execution_count": 18,
   "metadata": {},
   "outputs": [
    {
     "name": "stderr",
     "output_type": "stream",
     "text": [
      "WARNING: AstropyDeprecationWarning: /Users/arcticfox/Documents/flares/youngstar_pred/og_flare_table.txt already exists. Automatically overwriting ASCII files is deprecated. Use the argument 'overwrite=True' in the future. [astropy.io.ascii.ui]\n",
      "W0721 12:55:19.547004 4500448704 logger.py:204] AstropyDeprecationWarning: /Users/arcticfox/Documents/flares/youngstar_pred/og_flare_table.txt already exists. Automatically overwriting ASCII files is deprecated. Use the argument 'overwrite=True' in the future.\n"
     ]
    }
   ],
   "source": [
    "ff.flare_table.write(os.path.join(data_dir, 'og_flare_table.txt'), format='ascii')"
   ]
  },
  {
   "cell_type": "markdown",
   "metadata": {},
   "source": [
    "# Importing Tables"
   ]
  },
  {
   "cell_type": "code",
   "execution_count": 19,
   "metadata": {},
   "outputs": [],
   "source": [
    "flare_table = Table.read(os.path.join(data_dir, 'og_flare_table.txt'),\n",
    "                        format='ascii')\n",
    "phases = np.load(os.path.join(data_dir, 'phases.npy'), allow_pickle=True)\n",
    "table = Table.read(os.path.join(data_dir, 'og_fts_table.txt'), \n",
    "                   format='ascii')\n",
    "rad = np.load('/Users/arcticfox/Documents/youngStars/radii.npy')\n",
    "table.add_column(Column(rad,'rad'))\n",
    "table = table[table['Tmag'] < 16]"
   ]
  },
  {
   "cell_type": "code",
   "execution_count": 20,
   "metadata": {},
   "outputs": [],
   "source": [
    "badtics = []\n",
    "for tic in np.unique(table['Target_ID']):\n",
    "    row = table[table['Target_ID']==tic][0]\n",
    "    subtab = flare_table[flare_table['Target_ID']==tic]\n",
    "    total = row['Nflares_large'] + row['Nflares_small']\n",
    "    if total == 0 and len(subtab) > 0:\n",
    "        badtics.append(tic)"
   ]
  },
  {
   "cell_type": "code",
   "execution_count": 40,
   "metadata": {},
   "outputs": [],
   "source": [
    "for tic in badtics:\n",
    "    inds = np.where(flare_table['Target_ID']==tic)[0]\n",
    "    flare_table.remove_rows(inds)"
   ]
  },
  {
   "cell_type": "code",
   "execution_count": 22,
   "metadata": {},
   "outputs": [
    {
     "data": {
      "text/plain": [
       "93082.0"
      ]
     },
     "execution_count": 22,
     "metadata": {},
     "output_type": "execute_result"
    }
   ],
   "source": [
    "np.nansum(table['Nflares_large']+table['Nflares_small'])"
   ]
  },
  {
   "cell_type": "code",
   "execution_count": 23,
   "metadata": {},
   "outputs": [],
   "source": [
    "check = Table.read('/Users/arcticfox/Documents/youngStars/master_table.tab',\n",
    "                   format='ascii')"
   ]
  },
  {
   "cell_type": "code",
   "execution_count": 24,
   "metadata": {},
   "outputs": [],
   "source": [
    "lum = np.zeros(len(table))\n",
    "for i in range(len((table['Target_ID']))):\n",
    "    where = np.where(check['TIC']==table['Target_ID'][i])[0]\n",
    "    lum[i] = check['lum'].data[where][0]"
   ]
  },
  {
   "cell_type": "code",
   "execution_count": 25,
   "metadata": {},
   "outputs": [],
   "source": [
    "table.add_column(Column(lum, 'lum'))"
   ]
  },
  {
   "cell_type": "code",
   "execution_count": 26,
   "metadata": {},
   "outputs": [],
   "source": [
    "maxE = np.zeros(len(table))\n",
    "\n",
    "for i in range(len(table)):\n",
    "    lum = (table['lum'].data[i]*uni.Lsun).to(uni.erg/uni.s)\n",
    "    row = flare_table[(flare_table['Target_ID']==table['Target_ID'].data[i]) & \n",
    "                      (flare_table['amp']==table['max_amp'].data[i])]\n",
    "    dur = row['ed_s']"
   ]
  },
  {
   "cell_type": "code",
   "execution_count": 61,
   "metadata": {},
   "outputs": [
    {
     "data": {
      "text/latex": [
       "$6.3111784 \\times 10^{29} \\; \\mathrm{erg}$"
      ],
      "text/plain": [
       "<Quantity 6.31117843e+29 erg>"
      ]
     },
     "execution_count": 61,
     "metadata": {},
     "output_type": "execute_result"
    }
   ],
   "source": [
    "lam = np.arange(600,1000) * uni.nm\n",
    "#flare_table[(flare_table['amp']>=1.005) & (flare_table['amp']<1.0055)]\n",
    "star = planck(lam, 4023*uni.K, 1.19704*uni.Rsun).to(uni.erg/uni.s)\n",
    "flare = planck(lam, 9000*uni.K,  1.19704*uni.Rsun).to(uni.erg/uni.s)\n",
    "scale = np.nansum(star.value) / np.nansum(flare.value)\n",
    "(0.005 * (1.5*uni.s) * (0.338153869 * uni.Lsun) * scale).to(uni.erg)"
   ]
  },
  {
   "cell_type": "code",
   "execution_count": 33,
   "metadata": {},
   "outputs": [],
   "source": [
    "flare_table = flare_table[flare_table['amp']>=1.005]"
   ]
  },
  {
   "cell_type": "code",
   "execution_count": 42,
   "metadata": {},
   "outputs": [
    {
     "data": {
      "text/plain": [
       "(31198, 22880)"
      ]
     },
     "execution_count": 42,
     "metadata": {},
     "output_type": "execute_result"
    }
   ],
   "source": [
    "len(flare_table), len(flare_table[flare_table['amp']>1.008])"
   ]
  },
  {
   "cell_type": "markdown",
   "metadata": {},
   "source": [
    "#### Post Removal Analysis"
   ]
  },
  {
   "cell_type": "code",
   "execution_count": 36,
   "metadata": {},
   "outputs": [],
   "source": [
    "%matplotlib inline"
   ]
  },
  {
   "cell_type": "code",
   "execution_count": 37,
   "metadata": {},
   "outputs": [],
   "source": [
    "unique_tics = np.unique(table['Target_ID'].data)\n",
    "rot_tic, x, y, flags = [], [] , [], []\n",
    "\n",
    "for ut in unique_tics:\n",
    "    subtab = table[(table['Target_ID']==ut) & ((table['Flags']==0) | (table['Flags']==1))]\n",
    "    if len(subtab) > 1:\n",
    "        if subtab['Flags'][0]==0:\n",
    "            first_sector = subtab['period_days'][0]\n",
    "        else:\n",
    "            first_sector = subtab['secondary_period_days'][0]\n",
    "            \n",
    "        for i in range(1,len(subtab)):\n",
    "            x.append(first_sector)\n",
    "            if subtab['Flags'].data[i] == 0:\n",
    "                y.append(subtab['period_days'][i])\n",
    "                flags.append(0)\n",
    "            elif subtab['Flags'].data[i] == 1:\n",
    "                y.append(subtab['secondary_period_days'][i])\n",
    "                flags.append(0)\n",
    "            rot_tic.append(ut)\n",
    "x, y = np.array(x), np.array(y)\n",
    "rot_tic = np.array(rot_tic)\n",
    "flags = np.array(flags)"
   ]
  },
  {
   "cell_type": "code",
   "execution_count": 44,
   "metadata": {},
   "outputs": [],
   "source": [
    "COLOR = 'black'\n",
    "\n",
    "plt.rcParams['font.size'] = 20\n",
    "plt.rcParams['text.color'] = COLOR\n",
    "plt.rcParams['xtick.color'] = COLOR\n",
    "plt.rcParams['ytick.color'] = COLOR\n",
    "plt.rcParams['axes.labelcolor'] = COLOR\n",
    "#plt.rcParams['axes.spines.top'] = False\n",
    "#plt.rcParams['axes.spines.right'] = False\n",
    "plt.rcParams['axes.labelcolor'] = COLOR\n",
    "plt.rcParams['axes.edgecolor'] = COLOR\n",
    "plt.rcParams['figure.facecolor'] = 'none'\n",
    "plt.rcParams['legend.facecolor'] = 'none'"
   ]
  },
  {
   "cell_type": "code",
   "execution_count": 45,
   "metadata": {},
   "outputs": [
    {
     "data": {
      "text/plain": [
       "0.8548034934497817"
      ]
     },
     "execution_count": 45,
     "metadata": {},
     "output_type": "execute_result"
    },
    {
     "data": {
      "image/png": "[encoded data removed]",
      "text/plain": [
       "<Figure size 576x360 with 1 Axes>"
      ]
     },
     "metadata": {
      "needs_background": "light"
     },
     "output_type": "display_data"
    }
   ],
   "source": [
    "plt.figure(figsize=(8,5))\n",
    "plt.plot(np.arange(0,12,1), np.arange(0,12,1), c=parula_colors[120], \n",
    "         linewidth=3, zorder=1)\n",
    "plt.plot(np.arange(0,12,1), np.arange(0,12,1)*2, c=parula_colors[120], \n",
    "         linewidth=3, zorder=1, linestyle='--')\n",
    "plt.plot(np.arange(0,12,1), np.arange(0,12,1)*0.5, c=parula_colors[120], \n",
    "         linewidth=3, zorder=1, linestyle='--')\n",
    "\n",
    "plt.plot(x[flags==0], y[flags==0], '.', c=COLOR, ms=10, zorder=4)\n",
    "\n",
    "plt.xticks(np.arange(0,12,2))\n",
    "plt.yticks(np.arange(0,12,2))\n",
    "plt.ylim(0,10)\n",
    "plt.xlim(0,10)\n",
    "plt.xlabel('$P_{rot}$ from First Observation [Days]')\n",
    "plt.ylabel('$P_{rot}$ [Days]')\n",
    "\n",
    "len(np.where( np.abs(x[flags==0]-y[flags==0]) < 0.2)[0])/ len(x[flags==0])\n",
    "#plt.savefig('/Users/arcticfox/Documents/youngStars/presentationFigures/compare_rots.png',\n",
    "#            rasterize=True, bbox_inches='tight', dpi=250, transparent=True)"
   ]
  },
  {
   "cell_type": "markdown",
   "metadata": {},
   "source": [
    "## Rotation period vs. Teff"
   ]
  },
  {
   "cell_type": "code",
   "execution_count": 46,
   "metadata": {},
   "outputs": [],
   "source": [
    "from astropy import constants as const"
   ]
  },
  {
   "cell_type": "code",
   "execution_count": 47,
   "metadata": {},
   "outputs": [],
   "source": [
    "def planck(lam, T, rad):\n",
    "    result = 2.*np.pi*const.h*(const.c**2)/(lam**5)\n",
    "    exp = (const.h*const.c/(lam*const.k_B*T))#.to(u.m/u.m)\n",
    "    result /= (np.exp(exp) - 1.0)\n",
    "    #result *= (4* np.pi**2 * rad**2)\n",
    "    result *= (lam[1]-lam[0])\n",
    "    result = result.to(uni.erg/uni.s/uni.m**2) * (rad.to(uni.m))**2\n",
    "    return result"
   ]
  },
  {
   "cell_type": "code",
   "execution_count": 48,
   "metadata": {},
   "outputs": [
    {
     "data": {
      "text/latex": [
       "$[23.839439,~12.54623,~37.542638,~\\dots,~7.6435962,~2.2931896,~7.2352695] \\; \\mathrm{s}$"
      ],
      "text/plain": [
       "<Quantity [23.83943946, 12.54622977, 37.54263768, ...,  7.64359619,\n",
       "            2.29318957,  7.23526953] s>"
      ]
     },
     "execution_count": 48,
     "metadata": {},
     "output_type": "execute_result"
    }
   ],
   "source": [
    "flare_table['ed_s']* uni.s"
   ]
  },
  {
   "cell_type": "code",
   "execution_count": 49,
   "metadata": {},
   "outputs": [
    {
     "data": {
      "application/vnd.jupyter.widget-view+json": {
       "model_id": "7d37d13c6143486d8308136128c79619",
       "version_major": 2,
       "version_minor": 0
      },
      "text/plain": [
       "HBox(children=(IntProgress(value=0, max=4993), HTML(value='')))"
      ]
     },
     "metadata": {},
     "output_type": "display_data"
    },
    {
     "name": "stderr",
     "output_type": "stream",
     "text": [
      "//anaconda3/lib/python3.7/site-packages/astropy/units/quantity.py:481: RuntimeWarning: divide by zero encountered in true_divide\n",
      "  result = super().__array_ufunc__(function, method, *arrays, **kwargs)\n",
      "//anaconda3/lib/python3.7/site-packages/ipykernel_launcher.py:11: RuntimeWarning: invalid value encountered in double_scalars\n",
      "  # This is added back by InteractiveShellApp.init_path()\n"
     ]
    },
    {
     "name": "stdout",
     "output_type": "stream",
     "text": [
      "\n"
     ]
    }
   ],
   "source": [
    "scaling = np.zeros(len(table))\n",
    "calc_lum = np.zeros(len(table))\n",
    "lam = np.arange(600,1000) * uni.nm\n",
    "\n",
    "for i in tqdm_notebook(range(len(table))):\n",
    "    star = planck(lam, table['teff_val'].data[i]*uni.K, \n",
    "                                table['rad'].data[i]*uni.Rsun).to(uni.erg/uni.s)\n",
    "    # need to incorporate duration of flare\n",
    "    # work through with made-up numbers first\n",
    "    flare = planck(lam, 9000*uni.K,  table['rad'].data[i]*uni.Rsun).to(uni.erg/uni.s)\n",
    "    scaling[i] = np.nansum(star.value) / np.nansum(flare.value)\n",
    "    calc_lum[i] = np.nansum(star.value)"
   ]
  },
  {
   "cell_type": "code",
   "execution_count": 50,
   "metadata": {},
   "outputs": [],
   "source": [
    "table.add_column(Column(scaling, 'scaling'))\n",
    "table.add_column(Column(calc_lum, 'tess_lum'))"
   ]
  },
  {
   "cell_type": "code",
   "execution_count": 51,
   "metadata": {},
   "outputs": [],
   "source": [
    "maxE = np.zeros(len(table))\n",
    "\n",
    "for i in range(len(table)):\n",
    "    subtab = flare_table[np.where(flare_table['Target_ID']==table['Target_ID'].data[i])[0]]\n",
    "    if len(subtab) > 0:\n",
    "        argmax = np.argmax(subtab['amp'])\n",
    "        dur = subtab['ed_s'][argmax] * uni.s\n",
    "        amp = subtab['amp'][argmax] - 1\n",
    "        star = table['tess_lum'].data[i] * uni.erg/uni.s * table['scaling'].data[i]\n",
    "        energy = (star * dur * amp).to(uni.erg)\n",
    "        maxE[i] = energy.value"
   ]
  },
  {
   "cell_type": "code",
   "execution_count": 52,
   "metadata": {},
   "outputs": [],
   "source": [
    "table.add_column(Column(maxE, 'max_energy'))\n",
    "#table.replace_column('max_energy', maxE)"
   ]
  },
  {
   "cell_type": "code",
   "execution_count": 56,
   "metadata": {},
   "outputs": [
    {
     "name": "stderr",
     "output_type": "stream",
     "text": [
      "//anaconda3/lib/python3.7/site-packages/ipykernel_launcher.py:9: RuntimeWarning: divide by zero encountered in log10\n",
      "  if __name__ == '__main__':\n",
      "//anaconda3/lib/python3.7/site-packages/ipykernel_launcher.py:19: RuntimeWarning: divide by zero encountered in log10\n"
     ]
    },
    {
     "data": {
      "image/png": "[encoded data removed]",
      "text/plain": [
       "<Figure size 576x1008 with 6 Axes>"
      ]
     },
     "metadata": {
      "needs_background": "light"
     },
     "output_type": "display_data"
    }
   ],
   "source": [
    "measured = table[(table['Flags']==0) | (table['Flags']==1)]\n",
    "\n",
    "\n",
    "fig, (ax1, ax2, ax3) = plt.subplots(figsize=(8,14), nrows=3,sharey=True, sharex=True)\n",
    "fig.subplots_adjust(left=0.02, bottom=0.06, right=0.95, top=0.94, wspace=0.05, \n",
    "                   hspace=0.08)\n",
    "\n",
    "im = ax1.scatter(measured['Rp']-measured['Bp'],\n",
    "            measured['avg_period_days'], c=np.log10(measured['YMG_age']), s=18,\n",
    "            cmap='inferno')\n",
    "ax1.set_ylim(0.1,12)\n",
    "cm = fig.colorbar(im, ax=ax1, shrink=0.95)\n",
    "cm.set_label('Age [Myr]', fontsize=20)\n",
    "cm.set_ticks(np.arange(0.5,3,0.5))\n",
    "cm.set_ticklabels([int(i) for i in np.round(10**np.arange(0.5,3,0.5))])\n",
    "\n",
    "im = ax2.scatter(measured['Rp']-measured['Bp'],\n",
    "                measured['avg_period_days'], \n",
    "                c=np.log10((measured['max_energy'])), s=18,\n",
    "                cmap='viridis', vmin=27, vmax=35)\n",
    "cm = fig.colorbar(im, ax=ax2, shrink=0.95)\n",
    "cm.set_label('log$_{10}$(Max Flare Energy) [erg]', fontsize=20)\n",
    "\n",
    "im = ax3.scatter(measured['Rp']-measured['Bp'],\n",
    "                measured['avg_period_days'], \n",
    "                c=measured['weighted_rate'],\n",
    "                s=18,\n",
    "                cmap=parula, vmin=0, vmax=0.3)\n",
    "cm = fig.colorbar(im, ax=ax3, shrink=0.95)\n",
    "cm.set_label('Flare Rate [Day $^{-1}$]', fontsize=20)\n",
    "\n",
    "#plt.xlim(0.6,-4.3)\n",
    "ax3.set_xlabel('$Gaia$ $B_p-R_p$', fontsize=24)\n",
    "#ax1.set_ylabel('$P_{rot}$ [Days]', fontsize=24)\n",
    "ax2.set_ylabel('$P_{rot}$ [Days]', fontsize=24)\n",
    "ax2.set_yscale('log')\n",
    "\n",
    "ax1.set_rasterized(True)\n",
    "ax2.set_rasterized(True)\n",
    "ax3.set_rasterized(True)\n",
    "\n",
    "plt.savefig('/Users/arcticfox/Documents/youngStars/southern_paper_figures/combined_rot_plots.pdf', \n",
    "            rasterize=True, dpi=250, bbox_inches='tight')\n",
    "\n",
    "#plt.savefig('/Users/arcticfox/Documents/youngStars/presentationFigures/combined_rot_plots.png',\n",
    "#            rasterize=True, dpi=250, bbox_inches='tight', transparent=True)"
   ]
  },
  {
   "cell_type": "code",
   "execution_count": 57,
   "metadata": {},
   "outputs": [
    {
     "name": "stderr",
     "output_type": "stream",
     "text": [
      "//anaconda3/lib/python3.7/site-packages/astropy/table/column.py:1020: RuntimeWarning: invalid value encountered in greater\n",
      "  result = getattr(super(), op)(other)\n",
      "//anaconda3/lib/python3.7/site-packages/astropy/table/column.py:1020: RuntimeWarning: invalid value encountered in less\n",
      "  result = getattr(super(), op)(other)\n"
     ]
    },
    {
     "data": {
      "text/html": [
       "<i>Table length=195</i>\n",
       "<table id=\"table13618963904\" class=\"table-striped table-bordered table-condensed\">\n",
       "<thead><tr><th>Target_ID</th><th>period_days</th><th>secondary_period_days</th><th>gauss_width</th><th>max_power</th><th>secondary_max_power</th><th>orbit_flag</th><th>oflag1</th><th>oflag2</th><th>Flags</th><th>avg_period_days</th><th>total_observed_time</th><th>Nflares_small</th><th>Nflares_large</th><th>weighted_rate</th><th>max_amp</th><th>YMG_age</th><th>YMG</th><th>teff_val</th><th>Tmag</th><th>Bp</th><th>Rp</th><th>rad</th><th>lum</th><th>scaling</th><th>tess_lum</th><th>max_energy</th></tr></thead>\n",
       "<thead><tr><th>int64</th><th>float64</th><th>float64</th><th>float64</th><th>float64</th><th>float64</th><th>float64</th><th>float64</th><th>float64</th><th>int64</th><th>float64</th><th>float64</th><th>float64</th><th>float64</th><th>float64</th><th>float64</th><th>float64</th><th>str6</th><th>float64</th><th>float64</th><th>float64</th><th>float64</th><th>float64</th><th>float64</th><th>float64</th><th>float64</th><th>float64</th></tr></thead>\n",
       "<tr><td>15446998</td><td>9.92511401655761</td><td>14.128819988111445</td><td>1.5574635266518202</td><td>0.7648739514860532</td><td>0.263686731981011</td><td>1.0</td><td>1.0</td><td>5.0</td><td>2</td><td>9.92511401655761</td><td>21.29861111111111</td><td>8.0</td><td>0.0</td><td>0.0</td><td>1.0356297252961615</td><td>15.0</td><td>LCC</td><td>4295.0</td><td>10.5904</td><td>10.5435</td><td>12.0952</td><td>1.11979</td><td>0.384436</td><td>0.0874051922387369</td><td>4.144558642830611e+31</td><td>4.4542469119801264e+30</td></tr>\n",
       "<tr><td>20144774</td><td>12.875792557516775</td><td>13.75158511503355</td><td>6.927566739086345</td><td>0.582448119822328</td><td>0.045681887006549765</td><td>1.0</td><td>4.0</td><td>5.0</td><td>2</td><td>nan</td><td>41.419444444444444</td><td>4.0</td><td>0.0</td><td>0.0</td><td>1.0044165914179768</td><td>42.0</td><td>COL</td><td>4482.0</td><td>10.8103</td><td>10.7576</td><td>12.1468</td><td>0.699534</td><td>0.177909613</td><td>0.10507318809105844</td><td>1.9443634653818479e+31</td><td>0.0</td></tr>\n",
       "<tr><td>20144774</td><td>9.973426794502936</td><td>12.955449730738792</td><td>2.2140754753743583</td><td>0.3216718085713684</td><td>0.26577057157530853</td><td>1.0</td><td>1.0</td><td>5.0</td><td>2</td><td>nan</td><td>41.419444444444444</td><td>4.0</td><td>0.0</td><td>0.0</td><td>1.0044165914179768</td><td>42.0</td><td>COL</td><td>4482.0</td><td>10.8103</td><td>10.7576</td><td>12.1468</td><td>0.699534</td><td>0.177909613</td><td>0.10507318809105844</td><td>1.9443634653818479e+31</td><td>0.0</td></tr>\n",
       "<tr><td>20144775</td><td>12.87579250361648</td><td>13.751585007232961</td><td>1.6716107423815916</td><td>0.6376182514621213</td><td>0.07341471548889932</td><td>1.0</td><td>4.0</td><td>5.0</td><td>2</td><td>nan</td><td>41.41527777777778</td><td>4.0</td><td>0.0</td><td>0.0</td><td>1.0156627048238103</td><td>42.0</td><td>COL</td><td>4325.0</td><td>11.0467</td><td>10.991</td><td>12.4924</td><td>0.681843</td><td>0.146557525</td><td>0.09011479521507886</td><td>1.5842829912208942e+31</td><td>6.265060042586668e+28</td></tr>\n",
       "<tr><td>20144775</td><td>12.477724820200251</td><td>12.955449640400502</td><td>2.4442288941801014</td><td>0.6912253758084358</td><td>0.06185588978881796</td><td>1.0</td><td>4.0</td><td>5.0</td><td>2</td><td>nan</td><td>41.41527777777778</td><td>4.0</td><td>0.0</td><td>0.0</td><td>1.0156627048238103</td><td>42.0</td><td>COL</td><td>4325.0</td><td>11.0467</td><td>10.991</td><td>12.4924</td><td>0.681843</td><td>0.146557525</td><td>0.09011479521507886</td><td>1.5842829912208942e+31</td><td>6.265060042586668e+28</td></tr>\n",
       "<tr><td>21107353</td><td>3.9390986795297085</td><td>3.777763230744162</td><td>0.6557451206823263</td><td>0.990418626676657</td><td>0.20876923796037009</td><td>0.0</td><td>0.0</td><td>0.0</td><td>0</td><td>3.9390986795297085</td><td>21.28888888888889</td><td>11.0</td><td>2.0</td><td>0.07113214317779201</td><td>2.1414865568102854</td><td>15.0</td><td>LCC</td><td>4044.0</td><td>10.3718</td><td>10.3192</td><td>12.0245</td><td>1.25672</td><td>0.380551726</td><td>0.06659812210337746</td><td>3.977470101564214e+31</td><td>7.031044352268177e+33</td></tr>\n",
       "<tr><td>21627442</td><td>3.88150301115444</td><td>3.8788678930737133</td><td>0.7167915014652655</td><td>0.9060232722362241</td><td>0.19088813417766629</td><td>0.0</td><td>0.0</td><td>0.0</td><td>0</td><td>3.88150301115444</td><td>18.719444444444445</td><td>9.0</td><td>0.0</td><td>0.0</td><td>1.02298144152901</td><td>150.0</td><td>ABDMG</td><td>4140.0</td><td>10.3128</td><td>10.2578</td><td>11.8818</td><td>0.71853</td><td>0.136642411</td><td>0.07416415642129948</td><td>1.4479439785755784e+31</td><td>2.695348604042354e+29</td></tr>\n",
       "<tr><td>33593656</td><td>12.0</td><td>12.0</td><td>2.314708116526393</td><td>0.19127695158968394</td><td>0.02975819318799986</td><td>1.0</td><td>4.0</td><td>4.0</td><td>2</td><td>12.0</td><td>16.808333333333334</td><td>0.0</td><td>0.0</td><td>0.0</td><td>0.0</td><td>150.0</td><td>ABDMG</td><td>4436.0</td><td>9.5239</td><td>9.47509</td><td>10.8982</td><td>0.739841</td><td>0.1909579</td><td>0.1005551459343376</td><td>2.0813685013083537e+31</td><td>0.0</td></tr>\n",
       "<tr><td>35085814</td><td>5.793773198560288</td><td>5.852277183365773</td><td>1.666076182279779</td><td>0.9606202683040094</td><td>0.3236224378980594</td><td>0.0</td><td>0.0</td><td>0.0</td><td>0</td><td>5.793773198560288</td><td>18.509722222222223</td><td>4.0</td><td>0.0</td><td>0.0</td><td>1.0071765512978328</td><td>150.0</td><td>ABDMG</td><td>4032.0</td><td>10.6525</td><td>10.5863</td><td>12.3048</td><td>0.629391</td><td>0.09432296</td><td>0.06568632646801473</td><td>9.839746690611334e+30</td><td>8.934961810062449e+27</td></tr>\n",
       "<tr><td>44670257</td><td>4.837232087000785</td><td>4.483405610152646</td><td>0.8835177838657258</td><td>0.4307246839962138</td><td>0.3291087197728786</td><td>0.0</td><td>0.0</td><td>0.0</td><td>0</td><td>4.634148761724945</td><td>42.59583333333333</td><td>27.0</td><td>0.0</td><td>0.0</td><td>1.0248561504698213</td><td>45.0</td><td>THA</td><td>4464.0</td><td>9.3</td><td>9.25566</td><td>10.6583</td><td>0.804304</td><td>0.231436282</td><td>0.10329190647520724</td><td>2.526821930350749e+31</td><td>1.1853847630694108e+30</td></tr>\n",
       "<tr><td>...</td><td>...</td><td>...</td><td>...</td><td>...</td><td>...</td><td>...</td><td>...</td><td>...</td><td>...</td><td>...</td><td>...</td><td>...</td><td>...</td><td>...</td><td>...</td><td>...</td><td>...</td><td>...</td><td>...</td><td>...</td><td>...</td><td>...</td><td>...</td><td>...</td><td>...</td><td>...</td></tr>\n",
       "<tr><td>454961345</td><td>7.709672829314826</td><td>7.8495951309916245</td><td>2.2411829776588323</td><td>0.9728821674912678</td><td>0.8647994280649909</td><td>0.0</td><td>0.0</td><td>0.0</td><td>0</td><td>7.5465184536994485</td><td>46.21666666666667</td><td>33.0</td><td>0.0</td><td>0.0</td><td>1.0267548618062419</td><td>3.7</td><td>EPSC</td><td>4406.0</td><td>9.2402</td><td>9.19091</td><td>10.6881</td><td>1.90257</td><td>nan</td><td>0.09766901493579415</td><td>1.336921733754859e+32</td><td>3.913205965855864e+30</td></tr>\n",
       "<tr><td>454961345</td><td>7.38336407808407</td><td>7.277679320637187</td><td>1.738266299522405</td><td>0.9650662731246014</td><td>0.17986052874028172</td><td>0.0</td><td>0.0</td><td>0.0</td><td>0</td><td>7.5465184536994485</td><td>46.21666666666667</td><td>33.0</td><td>0.0</td><td>0.0</td><td>1.0267548618062419</td><td>3.7</td><td>EPSC</td><td>4406.0</td><td>9.2402</td><td>9.19091</td><td>10.6881</td><td>1.90257</td><td>nan</td><td>0.09766901493579415</td><td>1.336921733754859e+32</td><td>3.913205965855864e+30</td></tr>\n",
       "<tr><td>455000299</td><td>7.768791446119652</td><td>7.849574977947212</td><td>2.6074850836233385</td><td>0.9789974195223411</td><td>0.8801964195932797</td><td>0.0</td><td>0.0</td><td>0.0</td><td>0</td><td>7.770739214004399</td><td>46.227777777777774</td><td>11.0</td><td>0.0</td><td>0.0</td><td>1.0097230579440608</td><td>3.7</td><td>EPSC</td><td>4397.0</td><td>10.0936</td><td>10.04</td><td>11.4915</td><td>1.17947</td><td>0.468483478</td><td>0.09681247955405906</td><td>5.0929924040182655e+31</td><td>4.293153904904339e+29</td></tr>\n",
       "<tr><td>455000299</td><td>7.772686981889147</td><td>7.514971648359763</td><td>2.0557269654270196</td><td>0.9857668182152973</td><td>0.9857668182152973</td><td>0.0</td><td>2.0</td><td>0.0</td><td>0</td><td>7.770739214004399</td><td>46.227777777777774</td><td>11.0</td><td>0.0</td><td>0.0</td><td>1.0097230579440608</td><td>3.7</td><td>EPSC</td><td>4397.0</td><td>10.0936</td><td>10.04</td><td>11.4915</td><td>1.17947</td><td>0.468483478</td><td>0.09681247955405906</td><td>5.0929924040182655e+31</td><td>4.293153904904339e+29</td></tr>\n",
       "<tr><td>455410480</td><td>13.064610297792797</td><td>14.129220595585593</td><td>nan</td><td>0.03528102444383136</td><td>0.021775351081071443</td><td>1.0</td><td>4.0</td><td>5.0</td><td>2</td><td>13.064610297792797</td><td>19.306944444444444</td><td>3.0</td><td>0.0</td><td>0.0</td><td>1.007175824080201</td><td>16.0</td><td>UCL</td><td>4435.58</td><td>11.3698</td><td>11.3113</td><td>12.8802</td><td>0.576423</td><td>0.115872324</td><td>0.10051441082233323</td><td>1.2629286663740522e+31</td><td>2.09606596220813e+28</td></tr>\n",
       "<tr><td>460323913</td><td>1.471891247067361</td><td>1.4748712079524102</td><td>0.0829706600262306</td><td>0.9053570927780663</td><td>0.1858809301357273</td><td>0.0</td><td>0.0</td><td>0.0</td><td>0</td><td>1.471891247067361</td><td>19.304166666666667</td><td>17.0</td><td>0.0</td><td>0.0</td><td>1.0390134644751954</td><td>16.0</td><td>UCL</td><td>4364.0</td><td>10.0026</td><td>9.94987</td><td>11.5042</td><td>1.64868</td><td>nan</td><td>0.093708591864214</td><td>9.632079048237478e+31</td><td>9.678573507277037e+30</td></tr>\n",
       "<tr><td>466799461</td><td>5.603252008582868</td><td>5.3596379347661856</td><td>1.6856376072080432</td><td>0.3400299064242166</td><td>0.2055370397389071</td><td>0.0</td><td>0.0</td><td>0.0</td><td>0</td><td>4.256176612631716</td><td>44.81527777777778</td><td>13.0</td><td>1.0</td><td>0.022313819072117023</td><td>1.0703633387547438</td><td>15.0</td><td>LCC</td><td>4023.0</td><td>10.3385</td><td>10.2825</td><td>12.0121</td><td>1.19704</td><td>0.338153869</td><td>0.06500741625045499</td><td>3.522476610436498e+31</td><td>8.863442930568518e+30</td></tr>\n",
       "<tr><td>466799461</td><td>2.9091012166805634</td><td>2.8717327614535266</td><td>0.31156219833307003</td><td>0.4871937688650037</td><td>0.11262384864666565</td><td>0.0</td><td>0.0</td><td>0.0</td><td>0</td><td>4.256176612631716</td><td>44.81527777777778</td><td>13.0</td><td>1.0</td><td>0.022313819072117023</td><td>1.0703633387547438</td><td>15.0</td><td>LCC</td><td>4023.0</td><td>10.3385</td><td>10.2825</td><td>12.0121</td><td>1.19704</td><td>0.338153869</td><td>0.06500741625045499</td><td>3.522476610436498e+31</td><td>8.863442930568518e+30</td></tr>\n",
       "<tr><td>467773418</td><td>6.777739918291941</td><td>7.05504601289263</td><td>1.588867933304875</td><td>0.4184244792146704</td><td>0.18294072545412507</td><td>0.0</td><td>0.0</td><td>0.0</td><td>0</td><td>6.777739918291941</td><td>44.71666666666667</td><td>19.0</td><td>1.0</td><td>0.022363026462914645</td><td>1.2134376937611517</td><td>15.0</td><td>LCC</td><td>4469.0</td><td>10.6857</td><td>10.63</td><td>12.1686</td><td>1.33858</td><td>0.6439135</td><td>0.1037849852504984</td><td>7.032197810745244e+31</td><td>3.2068159960593464e+32</td></tr>\n",
       "<tr><td>467773418</td><td>5.888702646849987</td><td>7.135829801032659</td><td>0.9050687730899518</td><td>0.5683725692220863</td><td>0.12608143377620465</td><td>1.0</td><td>1.0</td><td>1.0</td><td>2</td><td>6.777739918291941</td><td>44.71666666666667</td><td>19.0</td><td>1.0</td><td>0.022363026462914645</td><td>1.2134376937611517</td><td>15.0</td><td>LCC</td><td>4469.0</td><td>10.6857</td><td>10.63</td><td>12.1686</td><td>1.33858</td><td>0.6439135</td><td>0.1037849852504984</td><td>7.032197810745244e+31</td><td>3.2068159960593464e+32</td></tr>\n",
       "</table>"
      ],
      "text/plain": [
       "<Table length=195>\n",
       "Target_ID    period_days     ...        tess_lum              max_energy      \n",
       "  int64        float64       ...        float64                float64        \n",
       "--------- ------------------ ... ---------------------- ----------------------\n",
       " 15446998   9.92511401655761 ...  4.144558642830611e+31 4.4542469119801264e+30\n",
       " 20144774 12.875792557516775 ... 1.9443634653818479e+31                    0.0\n",
       " 20144774  9.973426794502936 ... 1.9443634653818479e+31                    0.0\n",
       " 20144775  12.87579250361648 ... 1.5842829912208942e+31  6.265060042586668e+28\n",
       " 20144775 12.477724820200251 ... 1.5842829912208942e+31  6.265060042586668e+28\n",
       " 21107353 3.9390986795297085 ...  3.977470101564214e+31  7.031044352268177e+33\n",
       " 21627442   3.88150301115444 ... 1.4479439785755784e+31  2.695348604042354e+29\n",
       " 33593656               12.0 ... 2.0813685013083537e+31                    0.0\n",
       " 35085814  5.793773198560288 ...  9.839746690611334e+30  8.934961810062449e+27\n",
       " 44670257  4.837232087000785 ...  2.526821930350749e+31 1.1853847630694108e+30\n",
       "      ...                ... ...                    ...                    ...\n",
       "454961345  7.709672829314826 ...  1.336921733754859e+32  3.913205965855864e+30\n",
       "454961345   7.38336407808407 ...  1.336921733754859e+32  3.913205965855864e+30\n",
       "455000299  7.768791446119652 ... 5.0929924040182655e+31  4.293153904904339e+29\n",
       "455000299  7.772686981889147 ... 5.0929924040182655e+31  4.293153904904339e+29\n",
       "455410480 13.064610297792797 ... 1.2629286663740522e+31   2.09606596220813e+28\n",
       "460323913  1.471891247067361 ...  9.632079048237478e+31  9.678573507277037e+30\n",
       "466799461  5.603252008582868 ...  3.522476610436498e+31  8.863442930568518e+30\n",
       "466799461 2.9091012166805634 ...  3.522476610436498e+31  8.863442930568518e+30\n",
       "467773418  6.777739918291941 ...  7.032197810745244e+31 3.2068159960593464e+32\n",
       "467773418  5.888702646849987 ...  7.032197810745244e+31 3.2068159960593464e+32"
      ]
     },
     "execution_count": 57,
     "metadata": {},
     "output_type": "execute_result"
    }
   ],
   "source": [
    "table[(table['teff_val']>4000) & (table['teff_val']<4500)]"
   ]
  },
  {
   "cell_type": "code",
   "execution_count": 59,
   "metadata": {},
   "outputs": [
    {
     "data": {
      "text/html": [
       "<i>Table length=10</i>\n",
       "<table id=\"table13634798368\" class=\"table-striped table-bordered table-condensed\">\n",
       "<thead><tr><th>Target_ID</th><th>tpeak</th><th>amp</th><th>ed_s</th><th>rise</th><th>fall</th><th>prob</th></tr></thead>\n",
       "<thead><tr><th>float64</th><th>float64</th><th>float64</th><th>float64</th><th>float64</th><th>float64</th><th>float64</th></tr></thead>\n",
       "<tr><td>466799461.0</td><td>1570.7191227986455</td><td>1.0059561424198016</td><td>1.3647673161816898</td><td>0.0001</td><td>0.001845732074235654</td><td>0.8627664148807526</td></tr>\n",
       "<tr><td>466799461.0</td><td>1574.1441958033429</td><td>1.0332313452738793</td><td>19.90557397250147</td><td>0.0001</td><td>0.006375372833646976</td><td>1.0</td></tr>\n",
       "<tr><td>466799461.0</td><td>1574.3400330953793</td><td>1.0146642313424992</td><td>10.564850516268779</td><td>0.0001</td><td>0.0076719347598667356</td><td>0.9996365904808044</td></tr>\n",
       "<tr><td>466799461.0</td><td>1584.0776686030936</td><td>1.0052377205016942</td><td>1.2003784929673578</td><td>0.0001</td><td>0.001961184726448823</td><td>0.7292564511299133</td></tr>\n",
       "<tr><td>466799461.0</td><td>1584.2748928367314</td><td>1.006843490411109</td><td>3.9851220974814354</td><td>0.0001</td><td>0.0064632288789634815</td><td>0.9958299100399017</td></tr>\n",
       "<tr><td>466799461.0</td><td>1590.7457833462568</td><td>1.0079531589485515</td><td>4.983389189384455</td><td>0.0001</td><td>0.006595424409754946</td><td>0.999898374080658</td></tr>\n",
       "<tr><td>466799461.0</td><td>1591.8846783413032</td><td>1.0703633387547438</td><td>55.01042381865982</td><td>0.0001</td><td>0.008065807049699558</td><td>1.0</td></tr>\n",
       "<tr><td>466799461.0</td><td>1593.3416281748523</td><td>1.0297117468444248</td><td>12.401531683461974</td><td>0.0001</td><td>0.004435963146849896</td><td>1.0</td></tr>\n",
       "<tr><td>466799461.0</td><td>1604.9971525759763</td><td>1.0067706051409016</td><td>3.20851936640188</td><td>0.0001</td><td>0.005426153874530092</td><td>0.8754415214061737</td></tr>\n",
       "<tr><td>466799461.0</td><td>1608.259625580796</td><td>1.0072007471549742</td><td>6.924464606506724</td><td>0.0001</td><td>0.01</td><td>0.9600018262863159</td></tr>\n",
       "</table>"
      ],
      "text/plain": [
       "<Table length=10>\n",
       " Target_ID        tpeak        ...          fall                prob       \n",
       "  float64        float64       ...        float64             float64      \n",
       "----------- ------------------ ... --------------------- ------------------\n",
       "466799461.0 1570.7191227986455 ...  0.001845732074235654 0.8627664148807526\n",
       "466799461.0 1574.1441958033429 ...  0.006375372833646976                1.0\n",
       "466799461.0 1574.3400330953793 ... 0.0076719347598667356 0.9996365904808044\n",
       "466799461.0 1584.0776686030936 ...  0.001961184726448823 0.7292564511299133\n",
       "466799461.0 1584.2748928367314 ... 0.0064632288789634815 0.9958299100399017\n",
       "466799461.0 1590.7457833462568 ...  0.006595424409754946  0.999898374080658\n",
       "466799461.0 1591.8846783413032 ...  0.008065807049699558                1.0\n",
       "466799461.0 1593.3416281748523 ...  0.004435963146849896                1.0\n",
       "466799461.0 1604.9971525759763 ...  0.005426153874530092 0.8754415214061737\n",
       "466799461.0  1608.259625580796 ...                  0.01 0.9600018262863159"
      ]
     },
     "execution_count": 59,
     "metadata": {},
     "output_type": "execute_result"
    }
   ],
   "source": [
    "flare_table[flare_table['Target_ID']==466799461]"
   ]
  },
  {
   "cell_type": "markdown",
   "metadata": {},
   "source": [
    "## Individual Plots"
   ]
  },
  {
   "cell_type": "code",
   "execution_count": null,
   "metadata": {},
   "outputs": [],
   "source": [
    "fig, ax3 = plt.subplots(figsize=(12,8))\n",
    "im = ax3.scatter(measured['Rp']-measured['Bp'],\n",
    "                measured['avg_period_days'], \n",
    "                c=measured['weighted_rate'],\n",
    "                s=18,\n",
    "                cmap=parula, vmin=0, vmax=0.3)\n",
    "cm = fig.colorbar(im, ax=ax3, shrink=0.95)\n",
    "cm.set_label('Flare Rate [Day $^{-1}$]', fontsize=24)\n",
    "\n",
    "#plt.xlim(0.6,-4.3)\n",
    "ax3.set_xlabel('$Gaia$ $B_p-R_p$', fontsize=24)\n",
    "#ax1.set_ylabel('$P_{rot}$ [Days]', fontsize=24)\n",
    "ax3.set_ylabel('$P_{rot}$ [Days]', fontsize=24)\n",
    "ax3.set_yscale('log')\n",
    "\n",
    "#plt.savefig('/Users/arcticfox/Documents/youngStars/southern_paper_figures/combined_rot_plots.pdf', \n",
    "#            rasterize=True, dpi=250, bbox_inches='tight')\n",
    "\n",
    "plt.savefig('/Users/arcticfox/Documents/misc_presentations/exoplanets3/flare_rate_rot.png',\n",
    "            rasterize=True, dpi=250, bbox_inches='tight', transparent=True)"
   ]
  },
  {
   "cell_type": "code",
   "execution_count": null,
   "metadata": {},
   "outputs": [],
   "source": [
    "fig, ax3 = plt.subplots(figsize=(12,8))\n",
    "im = ax3.scatter(measured['Rp']-measured['Bp'],\n",
    "                measured['avg_period_days'], \n",
    "                c=measured['weighted_rate'],\n",
    "                s=18,\n",
    "                cmap=parula, vmin=0, vmax=0.3)\n",
    "cm = fig.colorbar(im, ax=ax3, shrink=0.95)\n",
    "cm.set_label('Flare Rate [Day $^{-1}$]', fontsize=24)\n",
    "\n",
    "#plt.xlim(0.6,-4.3)\n",
    "ax3.set_xlabel('$Gaia$ $B_p-R_p$', fontsize=24)\n",
    "#ax1.set_ylabel('$P_{rot}$ [Days]', fontsize=24)\n",
    "ax3.set_ylabel('$P_{rot}$ [Days]', fontsize=24)\n",
    "ax3.set_yscale('log')\n",
    "\n",
    "#plt.savefig('/Users/arcticfox/Documents/youngStars/southern_paper_figures/combined_rot_plots.pdf', \n",
    "#            rasterize=True, dpi=250, bbox_inches='tight')\n",
    "\n",
    "#plt.savefig('/Users/arcticfox/Documents/youngStars/presentationFigures/flare_rate_rot.png',\n",
    "#            rasterize=True, dpi=250, bbox_inches='tight', transparent=True)"
   ]
  },
  {
   "cell_type": "markdown",
   "metadata": {},
   "source": [
    "## Looks at flare distribution as a function of phase"
   ]
  },
  {
   "cell_type": "code",
   "execution_count": null,
   "metadata": {},
   "outputs": [],
   "source": [
    "peak_phase = np.array([])\n",
    "peak_amp   = np.array([])\n",
    "amp_tics   = np.array([], dtype=int)\n",
    "phase_flag = np.array([], dtype=int)\n",
    "amp_ages   = np.array([])\n",
    "\n",
    "for tic in np.unique(table['Target_ID']):\n",
    "    \n",
    "    flag  = table[table['Target_ID']==tic]['Flags'].data[0]\n",
    "    age   = table[table['Target_ID']==tic]['YMG_age'].data[0]\n",
    "    period = table[table['Target_ID']==tic]['avg_period_days'].data[0]\n",
    "    inds = np.where(TICS==tic)[0]\n",
    "    accum_time = np.array([])\n",
    "    accum_flux = np.array([])\n",
    "    accum_phase = np.array([])\n",
    "    \n",
    "    for t in inds:\n",
    "        if np.nanmax(phases[t])>0.3:\n",
    "            accum_time = np.append(accum_time, QTIME[t])\n",
    "            accum_flux = np.append(accum_flux, QFLUX[t])\n",
    "            accum_phase = np.append(accum_phase, phases[t])\n",
    "\n",
    "    flares = flare_table[flare_table['Target_ID']==tic]\n",
    "    \n",
    "    if (flag == 0 or flag == 1) and len(accum_phase) > 0 and period > 0.75:\n",
    "        peaks  = flares['tpeak'].data\n",
    "        amps   = flares['amp'].data\n",
    "\n",
    "        for j in range(len(amps)):\n",
    "            ti = np.where((accum_time >= peaks[j]) & \n",
    "                          (accum_time <= peaks[j]+0.1))[0]\n",
    "            if len(ti) > 0:\n",
    "                peak_phase = np.append(peak_phase, accum_phase[ti[0]])\n",
    "                peak_amp   = np.append(peak_amp, amps[j])\n",
    "                phase_flag = np.append(phase_flag, 0)\n",
    "                amp_tics   = np.append(amp_tics, tic)\n",
    "                amp_ages = np.append(amp_ages, age)\n",
    "    else:\n",
    "        amps   = flares['amp'].data\n",
    "        for a in amps:\n",
    "            peak_phase = np.append(peak_phase, -2)\n",
    "            peak_amp = np.append(peak_amp, a)\n",
    "            phase_flag = np.append(phase_flag, 1)\n",
    "            amp_tics   = np.append(amp_tics, tic)\n",
    "            amp_ages = np.append(amp_ages, age)"
   ]
  },
  {
   "cell_type": "markdown",
   "metadata": {},
   "source": [
    "## Got all the flare amplitudes... Now what"
   ]
  },
  {
   "cell_type": "code",
   "execution_count": null,
   "metadata": {},
   "outputs": [],
   "source": [
    "f = (phase_flag==0)\n",
    "\n",
    "small = np.where((peak_amp<1.05) & (peak_amp>1.005) &\n",
    "                 (peak_phase >=-0.5) & (peak_phase<=0.5))[0]# & (peak_amp>=1.01))\n",
    "big = np.where((peak_amp>=1.05) & (peak_amp>1.005) &\n",
    "                 (peak_phase >=-0.5) & (peak_phase<=0.5))[0]\n",
    "\n",
    "plt.figure(figsize=(8,5))\n",
    "\n",
    "plt.yscale('log')\n",
    "bins = np.arange(-0.5,0.52,0.04)\n",
    "\n",
    "y1, b1, _ = plt.hist(peak_phase[small], \n",
    "                     bins=bins, color=parula_colors[120],\n",
    "                     label='< 5%', edgecolor='k', linewidth=0.25)\n",
    "y2, b2, _ = plt.hist(peak_phase[big], \n",
    "                     bins=bins, color=parula_colors[240],\n",
    "                     label='$\\geq$ 5%', edgecolor='k', linewidth=0.25)\n",
    "#plt.yticks([10,100,500, 800])\n",
    "plt.xlim(-0.5,0.5)\n",
    "plt.yticks([10**0, 10**1, 10**2, 5*10**2], labels=[10**0, \n",
    "                                                   10**1, \n",
    "                                                   10**2, \n",
    "                                                   5*10**2])\n",
    "plt.ylim(1,700)\n",
    "legend = plt.legend(bbox_to_anchor=(0., 1.02, 1., .102), loc='lower center',\n",
    "                    ncol=2,  borderaxespad=0., fontsize=16)\n",
    "legend.set_title('Flare Amplitude')\n",
    "#plt.facecolor = False\n",
    "\n",
    "plt.xlabel('Phase')\n",
    "plt.ylabel('$N_{flares}$')\n",
    "\n",
    "#plt.savefig('/Users/arcticfox/Documents/youngStars/southern_paper_figures/phase.pdf',\n",
    "#            dpi=250, rasterize=True,\n",
    "#            bbox_inches='tight')\n",
    "\n",
    "#plt.savefig('/Users/arcticfox/Documents/misc_presentations/exoplanets3/phase.png',\n",
    "#            dpi=250, rasterize=True,\n",
    "#            bbox_inches='tight', transparent=True)"
   ]
  },
  {
   "cell_type": "code",
   "execution_count": null,
   "metadata": {},
   "outputs": [],
   "source": [
    "def sine_wave(args, x):\n",
    "    amp, offset = args\n",
    "    return amp * np.sin((x*2*np.pi-1*np.pi/2.)) + offset\n",
    "def sine_chi(args, x, y, n):\n",
    "    sine = sine_wave(args,x)\n",
    "    return np.nansum((y-sine)**2/n**2)\n",
    "def sine_resid(args, x, y, n):\n",
    "    sine = sine_wave(args,x)\n",
    "    return (y-sine)/n"
   ]
  },
  {
   "cell_type": "code",
   "execution_count": null,
   "metadata": {},
   "outputs": [],
   "source": [
    "bins = np.arange(-0.5,0.52,0.04)\n",
    "\n",
    "yall, ball, _ = plt.hist(peak_phase[f], bins=bins)\n",
    "\n",
    "n, _ = np.histogram(peak_phase[f], bins=bins)\n",
    "\n",
    "results = minimize(sine_chi, x0=[10,600],\n",
    "                       args=(ball[2:], yall[1:], np.sqrt(n[1:])), \n",
    "                       method='L-BFGS-B')\n",
    "    \n",
    "results2 = leastsq(sine_resid, results.x,\n",
    "                   args=(ball[2:], yall[1:], np.sqrt(n[1:])),\n",
    "                   full_output=True)\n",
    "\n",
    "plt.plot(ball[1:], yall, 'ko')\n",
    "plt.plot(ball[1:], sine_wave((10,600), ball[1:]), 'b')\n",
    "plt.plot(ball[1:], sine_wave((results2[0][0],results2[0][1]), ball[1:]), 'r')\n",
    "plt.ylim(1,1400)\n",
    "plt.yscale('log')\n",
    "#plt.plot(b2[1:], y2, 'wo')"
   ]
  },
  {
   "cell_type": "code",
   "execution_count": null,
   "metadata": {},
   "outputs": [],
   "source": [
    "semi_amp = -18+(7.6*3) # 3-sigma semi-amplitude (can rule out anything bigger)\n",
    "amp = semi_amp * 2\n",
    "# 664 +/- amp\n",
    "(1-(664-amp)/(664+amp))*100 # can rule out differences of 3% from peak to trough\n",
    "# can rule out coverages < 3% different\n",
    "\n",
    "# we see averaged 2% variability, but it must be spotty and less-spotty hemispheres, \n",
    "# but we can say can coverage is high due to real small 3% difference in flares at each phase\n",
    "# v different from the Sun"
   ]
  },
  {
   "cell_type": "markdown",
   "metadata": {},
   "source": [
    "## Age & Temperature Bins"
   ]
  },
  {
   "cell_type": "code",
   "execution_count": null,
   "metadata": {},
   "outputs": [],
   "source": [
    "AGE_RANGE = np.array([0,10,20,40,60,140,160,560,580])"
   ]
  },
  {
   "cell_type": "markdown",
   "metadata": {},
   "source": [
    "## Flare amplitudes per temperature bin"
   ]
  },
  {
   "cell_type": "code",
   "execution_count": null,
   "metadata": {},
   "outputs": [],
   "source": [
    "TEMP_BINS = np.array([2300, 3500, 4000, 4500, 5000, 6200, 15000])\n",
    "\n",
    "all_weights_per_bin = np.zeros(len(TEMP_BINS)-1, dtype=np.ndarray)\n",
    "all_amps_per_bin    = np.zeros(len(TEMP_BINS)-1, dtype=np.ndarray)\n",
    "all_ages_per_bin    = np.zeros(len(TEMP_BINS)-1, dtype=np.ndarray)\n",
    "all_tics_per_bin    = np.zeros(len(TEMP_BINS)-1, dtype=np.ndarray)\n",
    "\n",
    "for z in range(len(TEMP_BINS)-1):\n",
    "    subtab = table[(table['teff_val']>=TEMP_BINS[z]) &\n",
    "                   (table['teff_val']<TEMP_BINS[z+1]) &\n",
    "                   (table['YMG_age']!=0.0) & (table['YMG'] != 'None')]\n",
    "    temp_weights = np.array([])\n",
    "    temp_amps = np.array([])\n",
    "    temp_ages = np.array([])\n",
    "    temp_tics = np.array([], dtype=int)\n",
    "    \n",
    "    for tic in np.unique(subtab['Target_ID']):\n",
    "        prop = table[table['Target_ID']==tic][0]\n",
    "        #lum = (prop['lum']*uni.Lsun).to(uni.erg/uni.s)\n",
    "        lum = prop['tess_lum']*uni.erg/uni.s\n",
    "        scale = prop['scaling']\n",
    "        crossmatch = flare_table[flare_table['Target_ID']==tic]\n",
    "        \n",
    "        if len(crossmatch) == prop['Nflares_large']+prop['Nflares_small']:\n",
    "            \n",
    "            for a in range(len(crossmatch)):\n",
    "                temp_weights = np.append(temp_weights, \n",
    "                                         prop['total_observed_time']*crossmatch['prob'].data[a])\n",
    "                dur = crossmatch['ed_s'].data[a] * uni.s\n",
    "                amp = crossmatch['amp'].data[a] - 1\n",
    "\n",
    "                flare = (amp * lum * dur * scale).to(uni.erg)\n",
    "                temp_amps = np.append(temp_amps, flare.value)\n",
    "                temp_ages = np.append(temp_ages, prop['YMG_age'])\n",
    "                temp_tics = np.append(temp_tics, tic)\n",
    "                \n",
    "    all_weights_per_bin[z] = temp_weights\n",
    "    all_amps_per_bin[z]    = temp_amps\n",
    "    all_ages_per_bin[z]    = temp_ages\n",
    "    all_tics_per_bin[z]    = temp_tics"
   ]
  },
  {
   "cell_type": "code",
   "execution_count": null,
   "metadata": {},
   "outputs": [],
   "source": [
    "all_amps_per_bin"
   ]
  },
  {
   "cell_type": "markdown",
   "metadata": {},
   "source": [
    "## Stacked histograms"
   ]
  },
  {
   "cell_type": "code",
   "execution_count": null,
   "metadata": {},
   "outputs": [],
   "source": [
    "def stacked_histogram_ages(all_ages, all_amps, all_weights, tics, age_cutoff=50,\n",
    "                          where='paper'):\n",
    "    global TEMP_BINS\n",
    "    \n",
    "    plt.rcParams['font.size'] = 18\n",
    "    fig, axes = plt.subplots(ncols=int(len(TEMP_BINS)/2), \n",
    "                             nrows=2, figsize=(14,6),\n",
    "                             sharex=True, sharey=True)\n",
    "\n",
    "    if where == 'paper':\n",
    "        color1 = acolors[1] #acolors[6] #\n",
    "        color2 = acolors[8] #acolors[10] #\n",
    "    else:\n",
    "        color1 = parula_colors[100]\n",
    "        color2 = parula_colors[200]\n",
    "    \n",
    "   # bins = np.logspace(0, 18/7., 19)\n",
    "    bins = np.logspace(27, 35, 23)\n",
    "    \n",
    "    z = 0\n",
    "    for ax in axes.reshape(-1):\n",
    "#        _, u = np.unique(all_tics_per_bin[z], return_index=True)\n",
    "        \n",
    "        all_old = np.where((all_ages[z] >= age_cutoff))[0]\n",
    "        all_young = np.where((all_ages[z] < age_cutoff))[0]\n",
    "        \n",
    "        _,u = np.unique(tics[z][all_old], return_index=True)\n",
    "        weight_old = all_weights[z][all_old][u]\n",
    "        \n",
    "        _,u = np.unique(tics[z][all_young], return_index=True)\n",
    "        weight_young = all_weights[z][all_young][u]\n",
    "\n",
    "       # weights = all_weights[z]\n",
    "        amps    = all_amps[z]\n",
    "        \n",
    "        if z == 4:\n",
    "            #ax.set_xlabel('Flare Amplitude [%]', fontsize=22)\n",
    "            ax.set_xlabel('Flare Energy [erg]', fontsize=22)\n",
    "        if z == 3:\n",
    "            ax.set_ylabel('Flare Rate [Day$^{-1}$]', y=1.1, fontsize=22)\n",
    "\n",
    "        \n",
    "        ax.hist(amps[all_old]*100,\n",
    "                bins=bins, color=color2, alpha=0.2,\n",
    "                weights=np.full(len(all_old), 1/np.nansum(weight_old)),#/len(all_old),\n",
    "                histtype='bar')\n",
    "        ax.hist(amps[all_young]*100, \n",
    "                bins=bins, color=color1, alpha=0.2,\n",
    "                weights=np.full(len(all_young), 1/np.nansum(weight_young)),#/len(all_young),\n",
    "                histtype='bar')\n",
    "        \n",
    "        # Outline\n",
    "        ax.hist(amps[all_young]*100, \n",
    "                bins=bins, color=color1,\n",
    "                edgecolor=color1, linewidth=2, fill=None,\n",
    "                weights=np.full(len(all_young), 1/np.nansum(weight_young)),#/len(all_young),\n",
    "                histtype='bar')#, label='$\\leq$ {}'.format(age_cutoff))\n",
    "        ax.hist(amps[all_old]*100,\n",
    "                bins=bins, color=color2,fill=None,\n",
    "                edgecolor=color2, linewidth=2, \n",
    "                weights=np.full(len(all_old), 1/np.nansum(weight_old)),#/len(all_old),\n",
    "                histtype='bar')#, label='> {}'.format(age_cutoff))\n",
    "    \n",
    "        # Legend\n",
    "        ax.hist(amps[all_young]/1e10, \n",
    "                bins=bins, color=color1,\n",
    "                edgecolor=color1, linewidth=4, fill=None,\n",
    "                weights=np.full(len(all_young), 1/np.nansum(weight_young)),#/len(all_young),\n",
    "                histtype='bar', label='$\\leq$ {}'.format(age_cutoff))\n",
    "        ax.hist(amps[all_old]/1e10,\n",
    "                bins=bins, color=color2,fill=None,\n",
    "                edgecolor=color2, linewidth=4, \n",
    "                weights=np.full(len(all_old), 1/np.nansum(weight_old)),#/len(all_old),\n",
    "                histtype='bar', label='> {}'.format(age_cutoff))\n",
    "    \n",
    "\n",
    "        if z == 1:\n",
    "            ax.legend(bbox_to_anchor=(0., 1.06, 1.0, .102), loc='lower center',\n",
    "                    ncol=2,  borderaxespad=0., fontsize=16, title='Age [Myr]')\n",
    "            #ax.legend(fontsize=18, title='Age [Myr]',\n",
    "            #          bbox_to_anchor=(1, -0.35, 0.65, 0.0),\n",
    "            #          loc='lower right', mode='expand')\n",
    "        \n",
    "        \n",
    "        ax.set_ylim(3*10**-4, 5*10**-1)\n",
    "        \n",
    "        #ax.set_xlim(29,35)\n",
    "        #ax.set_ylim(-1,0)\n",
    "        \n",
    "        ax.set_yscale('log')\n",
    "        ax.set_xscale('log')\n",
    "        ax.set_rasterized(True)\n",
    "        \n",
    "        #ax.set_xticks([1, 10, 100])\n",
    "        #ax.set_xticklabels(['1', '10', '100'])\n",
    "        \n",
    "        \n",
    "        #ax.set_xscale('log')\n",
    "        \n",
    "        #ax.set_xticklabels(np.arange(0,125,25))\n",
    "\n",
    "        ax.set_title('{}-{} K'.format(TEMP_BINS[z], TEMP_BINS[z+1]),\n",
    "                 y=0.81, fontweight='bold', loc='center')\n",
    "\n",
    "        z += 1\n",
    "\n",
    "    plt.subplots_adjust()\n",
    "    return fig"
   ]
  },
  {
   "cell_type": "code",
   "execution_count": null,
   "metadata": {
    "scrolled": false
   },
   "outputs": [],
   "source": [
    "%matplotlib inline\n",
    "fig = stacked_histogram_ages(all_ages_per_bin, \n",
    "                             all_amps_per_bin,\n",
    "                             all_weights_per_bin,\n",
    "                             all_tics_per_bin,\n",
    "                             age_cutoff=50,\n",
    "                             where='paper')\n",
    "#fig.savefig('/Users/arcticfox/Documents/youngStars/southern_paper_figures/byage.pdf',\n",
    "#            dpi=250, rasterize=True,\n",
    "#            bbox_inches='tight')#, transparent=True)\n",
    "#fig.savefig('/Users/arcticfox/Documents/misc_presentations/exoplanets3/byage.png',\n",
    "#            dpi=250, rasterize=True,\n",
    "#            bbox_inches='tight', transparent=True)"
   ]
  },
  {
   "cell_type": "markdown",
   "metadata": {},
   "source": [
    "## Bin by age and effective temperature"
   ]
  },
  {
   "cell_type": "code",
   "execution_count": null,
   "metadata": {},
   "outputs": [],
   "source": [
    "AGE_BINS = np.array([1, 20, 30, 45, 125, 300, 800])\n",
    "\n",
    "all_weights_per_age = np.zeros(len(AGE_BINS)-1, dtype=np.ndarray)\n",
    "all_amps_per_age    = np.zeros(len(AGE_BINS)-1, dtype=np.ndarray)\n",
    "all_ages_per_age    = np.zeros(len(AGE_BINS)-1, dtype=np.ndarray)\n",
    "all_temps_per_age   = np.zeros(len(AGE_BINS)-1, dtype=np.ndarray)\n",
    "all_tics_per_age    = np.zeros(len(AGE_BINS)-1, dtype=np.ndarray)\n",
    "\n",
    "for z in range(len(AGE_BINS)-1):\n",
    "    subtab = table[(table['YMG_age']>=AGE_BINS[z]) &\n",
    "                   (table['YMG_age']<AGE_BINS[z+1]) &\n",
    "                   (table['YMG_age']!=0.0) & (table['YMG'] != 'None')]\n",
    "    \n",
    "    temp_weights = np.array([])\n",
    "    temp_amps = np.array([])\n",
    "    temp_ages = np.array([])\n",
    "    temp_temp = np.array([])\n",
    "    temp_tics = ([])\n",
    "    \n",
    "    for tic in np.unique(subtab['Target_ID']):\n",
    "        prop = table[table['Target_ID']==tic][0]\n",
    "        lum = prop['tess_lum']*uni.erg/uni.s\n",
    "        scale = prop['scaling']\n",
    "        crossmatch = flare_table[flare_table['Target_ID']==tic]\n",
    "        \n",
    "        if len(crossmatch) == prop['Nflares_large']+prop['Nflares_small']:\n",
    "            for a in range(len(crossmatch)):\n",
    "                temp_weights = np.append(temp_weights, \n",
    "                                         prop['total_observed_time']*crossmatch['prob'].data[a])\n",
    "                dur = crossmatch['ed_s'].data[a] * uni.s\n",
    "                amp = crossmatch['amp'].data[a] - 1\n",
    "                #flare = (crossmatch['amp'].data[a]*lum*dur*scale).to(uni.erg)\n",
    "                flare = (amp * lum * dur * scale).to(uni.erg)\n",
    "                #print(flare)\n",
    "                temp_amps = np.append(temp_amps, flare.value)\n",
    "                temp_temp = np.append(temp_temp, prop['teff_val'])\n",
    "                temp_ages = np.append(temp_ages, prop['YMG_age'])\n",
    "                temp_tics = np.append(temp_tics, prop['Target_ID'])\n",
    "                \n",
    "    all_weights_per_age[z] = temp_weights\n",
    "    all_amps_per_age[z]    = temp_amps\n",
    "    all_ages_per_age[z]    = temp_ages\n",
    "    all_temps_per_age[z]   = temp_temp\n",
    "    all_tics_per_age[z]    = temp_tics"
   ]
  },
  {
   "cell_type": "code",
   "execution_count": null,
   "metadata": {},
   "outputs": [],
   "source": [
    "def stacked_histogram_temp(all_temps, all_amps, \n",
    "                           all_weights, tics, temp_cutoff=4000,\n",
    "                           where='paper'):\n",
    "    global AGE_BINS\n",
    "    \n",
    "    plt.rcParams['font.size'] = 18\n",
    "    fig, axes = plt.subplots(ncols=int(len(AGE_BINS)/2), \n",
    "                             nrows=2, figsize=(14,6),\n",
    "                             sharex=True, sharey=True)\n",
    "\n",
    "    if where == 'paper':\n",
    "        color1 = colors[1]#colors[6]#\n",
    "        color2 = colors[8]#colors[11]#\n",
    "    else:\n",
    "        color1 = colors[6]\n",
    "        color2 = colors[11]\n",
    "\n",
    "    #bins = np.logspace(0, 18/7., 19)\n",
    "    bins = np.logspace(27, 35, 19)\n",
    "    \n",
    "    z = 0\n",
    "    for ax in axes.reshape(-1):\n",
    "        \n",
    "        all_hot = np.where((all_temps[z] >= temp_cutoff))[0]\n",
    "        all_cool = np.where((all_temps[z] < temp_cutoff))[0]\n",
    "        \n",
    "        _,u = np.unique(tics[z][all_hot], return_index=True)\n",
    "        weight_hot = all_weights[z][all_hot][u]\n",
    "        \n",
    "        _,u = np.unique(tics[z][all_cool], return_index=True)\n",
    "        weight_cool = all_weights[z][all_cool][u]\n",
    "\n",
    "        amps    = all_amps[z]\n",
    "        \n",
    "        if z == 4:\n",
    "            ax.set_xlabel('Flare Energy [erg]', fontsize=22)\n",
    "        if z == 3:\n",
    "            ax.set_ylabel('Flare Rate [Day$^{-1}$]', y=1.1, fontsize=22)\n",
    "\n",
    "        ax.hist(amps[all_cool]*100, \n",
    "                bins=bins, color=color1, alpha=0.2,\n",
    "                edgecolor='black', linewidth=0.25, \n",
    "                weights=np.full(len(all_cool), 1/np.nansum(weight_cool)),\n",
    "                histtype='bar')\n",
    "        ax.hist(amps[all_hot]*100,\n",
    "                bins=bins, color=color2, alpha=0.2,\n",
    "                edgecolor='black', linewidth=0.25, \n",
    "                weights=np.full(len(all_hot), 1/np.nansum(weight_hot)),\n",
    "                histtype='bar')\n",
    "        \n",
    "        ax.hist(amps[all_cool]*100, \n",
    "                bins=bins, color=color1, \n",
    "                edgecolor=color1, linewidth=2, fill=None,\n",
    "                weights=np.full(len(all_cool), 1/np.nansum(weight_cool)),\n",
    "                histtype='bar')#, label='$\\leq$ {}'.format(temp_cutoff))\n",
    "        ax.hist(amps[all_hot]*100,\n",
    "                bins=bins, color=color2, \n",
    "                edgecolor=color2, linewidth=2, fill=None,\n",
    "                weights=np.full(len(all_hot), 1/np.nansum(weight_hot)),\n",
    "                histtype='bar')#, label='> {}'.format(temp_cutoff))\n",
    "        \n",
    "        ax.hist(amps[all_cool]/1e10, \n",
    "                bins=bins, color=color1, \n",
    "                edgecolor=color1, linewidth=4, fill=None,\n",
    "                weights=np.full(len(all_cool), 1/np.nansum(weight_cool)),\n",
    "                histtype='bar', label='$\\leq$ {}'.format(temp_cutoff))\n",
    "        ax.hist(amps[all_hot]/1e10,\n",
    "                bins=bins, color=color2, \n",
    "                edgecolor=color2, linewidth=4, fill=None,\n",
    "                weights=np.full(len(all_hot), 1/np.nansum(weight_hot)),\n",
    "                histtype='bar', label='> {}'.format(temp_cutoff))\n",
    "\n",
    "        if z == 1:\n",
    "            ax.legend(bbox_to_anchor=(0., 1.06, 1.0, .102), loc='lower center',\n",
    "                    ncol=2,  borderaxespad=0., fontsize=16, title='$T_{eff}$ [K]')\n",
    "            \n",
    "        #ax.set_xlim(1,300)\n",
    "        ax.set_ylim(3*10**-4, 6*10**-1)\n",
    "        #ax.set_xticks()\n",
    "        \n",
    "        ax.set_yscale('log')\n",
    "        ax.set_xscale('log')\n",
    "        ax.set_rasterized(True)\n",
    "        \n",
    "        #ax.set_xticks([1, 10, 100])\n",
    "        #ax.set_xticklabels(['1', '10', '100'])\n",
    "\n",
    "        ax.set_title('{}-{} Myr'.format(AGE_BINS[z], AGE_BINS[z+1]),\n",
    "                 y = 0.81, fontweight='bold', loc='center')\n",
    "\n",
    "        z += 1\n",
    "\n",
    "    plt.subplots_adjust()\n",
    "    return fig"
   ]
  },
  {
   "cell_type": "code",
   "execution_count": null,
   "metadata": {},
   "outputs": [],
   "source": [
    "%matplotlib inline\n",
    "fig = stacked_histogram_temp(all_temps_per_age, \n",
    "                             all_amps_per_age,\n",
    "                             all_weights_per_age,\n",
    "                             all_tics_per_age,\n",
    "                             temp_cutoff=4000,\n",
    "                             where='paper')\n",
    "#fig.savefig('/Users/arcticfox/Documents/youngStars/southern_paper_figures/byteff.pdf', \n",
    "#            dpi=250, rasterize=True,\n",
    "#            bbox_inches='tight')#, transparent=True)\n",
    "#fig.savefig('/Users/arcticfox/Documents/misc_presentations/exoplanets3/byteff.png',\n",
    "#            dpi=250, rasterize=True,\n",
    "#            bbox_inches='tight', transparent=True)"
   ]
  },
  {
   "cell_type": "markdown",
   "metadata": {},
   "source": [
    "## Flare Frequency Distribution"
   ]
  },
  {
   "cell_type": "code",
   "execution_count": null,
   "metadata": {},
   "outputs": [],
   "source": [
    "from scipy.optimize import leastsq"
   ]
  },
  {
   "cell_type": "code",
   "execution_count": null,
   "metadata": {},
   "outputs": [],
   "source": [
    "all_amps, all_weights = np.array(all_amps_per_bin[0]), np.array(all_weights_per_bin[0])\n",
    "all_tics = np.array(all_tics_per_bin[0])\n",
    "all_ages = np.array(all_ages_per_bin[0])\n",
    "\n",
    "for i in range(1, len(all_amps_per_bin)):\n",
    "    all_amps = np.append(all_amps, all_amps_per_bin[i])\n",
    "    all_weights = np.append(all_weights, all_weights_per_bin[i])\n",
    "    all_tics = np.append(all_tics, all_tics_per_bin[i])\n",
    "    all_ages = np.append(all_ages, all_ages_per_bin[i])\n",
    "all_amps *= 100"
   ]
  },
  {
   "cell_type": "code",
   "execution_count": null,
   "metadata": {},
   "outputs": [],
   "source": [
    "all_amps, all_weights = np.array(all_amps_per_age[0]), np.array(all_weights_per_age[0])\n",
    "all_tics = np.array(all_tics_per_age[0])\n",
    "all_temps = np.array(all_ages_per_age[0])\n",
    "\n",
    "for i in range(1, len(all_amps_per_bin)):\n",
    "    all_amps = np.append(all_amps, all_amps_per_age[i])\n",
    "    all_weights = np.append(all_weights, all_weights_per_age[i])\n",
    "    all_tics = np.append(all_tics, all_tics_per_age[i])\n",
    "    #all_ages = np.append(all_ages, all_ages_per_age[i])\n",
    "    all_temps = np.append(all_temps, all_temps_per_age[i])"
   ]
  },
  {
   "cell_type": "code",
   "execution_count": null,
   "metadata": {},
   "outputs": [],
   "source": [
    "len(all_ages), len(all_tics)"
   ]
  },
  {
   "cell_type": "code",
   "execution_count": null,
   "metadata": {},
   "outputs": [],
   "source": [
    "def linear_fit(args, x, y, num):\n",
    "    m, b = args\n",
    "    fit = m*x+b#b * x**m \n",
    "    return np.nansum((y-fit)**2/num**2)\n",
    "\n",
    "def linear(args, x):\n",
    "    m, b = args\n",
    "    fit = m*x+b#b * x**m\n",
    "    return fit\n",
    "\n",
    "def power_law(args, x):\n",
    "    m, b = args\n",
    "    fit = b * x**m\n",
    "    return fit\n",
    "\n",
    "def linear_resid(args, x, y, num):\n",
    "    m, b = args\n",
    "    fit = m*x+b#b * x**m \n",
    "    return (y-fit)/num\n",
    "\n",
    "def power_law_resid(args, x, y, num):\n",
    "    m, b = args\n",
    "    fit = b * x**m \n",
    "    return (y-fit)/num"
   ]
  },
  {
   "cell_type": "code",
   "execution_count": null,
   "metadata": {},
   "outputs": [],
   "source": [
    "def ffd_function(tics, amps, weights, ax, color):\n",
    "    #bins = np.logspace(0, 18/7., 19)\n",
    "    bins = np.logspace(29,35,23)\n",
    "\n",
    "    _, uniargs = np.unique(tics, return_index=True)\n",
    "\n",
    "    n, _ = np.histogram(amps, bins=bins)\n",
    "\n",
    "\n",
    "    y, binedges, _ = ax.hist(amps, bins=bins, \n",
    "                             weights=np.full(len(amps), \n",
    "                                              1/np.nansum(weights[uniargs])) ,\n",
    "                             alpha=0.2,\n",
    "                             color=color)\n",
    "    x = binedges[1:] + 0.0\n",
    "    logx = np.log10(x)\n",
    "\n",
    "    i = 11\n",
    "    j = 18\n",
    "\n",
    "    plt.plot(logx[i:j], np.log10(n[i:j]), '.', c=color)\n",
    "    plt.plot(logx[i:j], linear([-1.4, 47], logx[i:j]), '--', c=color, linewidth=3)\n",
    "\n",
    "    \n",
    "    results = minimize(linear_fit, x0=[-1.4, 47],\n",
    "                       args=(logx[i:j-1]-np.diff(logx[i:j])/2., \n",
    "                             np.log10(n[i:j-1]), np.sqrt(np.log10(n[i:j-1])) ), \n",
    "                       bounds=( (-3.0, 0.0), (-100, 100)),\n",
    "                       method='L-BFGS-B')#, \n",
    "                       #options={'ftol':1e-8, 'gtol':1e-7})\n",
    "\n",
    "    results.x[1] = 10**results.x[1]\n",
    "\n",
    "    results2 = leastsq(power_law_resid, results.x,\n",
    "                       args=(x[i:j-1]-np.diff(x[i:j])/2., \n",
    "                             n[i:j-1], \n",
    "                             np.sqrt(n[i:j-1]) ),\n",
    "                       full_output=True)\n",
    "\n",
    "    fit_params = results2[0]\n",
    "    \n",
    "    slope_err = np.sqrt(results2[1][0][0])\n",
    "\n",
    "    model = linear([fit_params[0], np.log10(fit_params[1])], logx[10:])\n",
    "    ax.plot(logx[10:], model, c=color)\n",
    "\n",
    "    print(fit_params[0], slope_err)\n",
    "\n",
    "    return fit_params"
   ]
  },
  {
   "cell_type": "code",
   "execution_count": null,
   "metadata": {},
   "outputs": [],
   "source": [
    "fig, ax = plt.subplots(ncols=1, figsize=(10,6))\n",
    "\n",
    "bins = np.logspace(29,35,23)\n",
    "\n",
    "print(\"------- BY TEFF -------\")\n",
    "\n",
    "mask1 = all_temps <= 4000\n",
    "mask2 = all_temps > 4000\n",
    "\n",
    "ffd_function(all_tics[mask1], all_amps[mask1], \n",
    "             all_weights[mask1], ax, color='k')\n",
    "ffd_function(all_tics[mask2], all_amps[mask2], \n",
    "             all_weights[mask2], ax, color='r')\n",
    "\n",
    "print(\"------- BY AGE -------\")\n",
    "\n",
    "mask1 = all_ages <= 50\n",
    "mask2 = all_ages > 50\n",
    "\n",
    "ffd_function(all_tics_a[mask1], all_amps_a[mask1], \n",
    "             all_weights_a[mask1], ax, color='g')\n",
    "ax.set_xlim(30,40)\n",
    "ax.set_ylim(-2,5)\n",
    "ffd_function(all_tics_a[mask2], all_amps_a[mask2], \n",
    "             all_weights_a[mask2], ax, color='w')\n",
    "\n",
    "#ax.set_ylim(3*10**-1, 10**1)\n",
    "\n",
    "\n",
    "ax.set_xlabel('log(Flare Energy) [erg]', fontsize=22)\n",
    "ax.set_ylabel('Flare Rate [Day$^{-1}$]', fontsize=22)\n",
    "\n",
    "#ax.set_yscale('log')\n",
    "#ax.set_xscale('log')\n",
    "\n",
    "plt.show()"
   ]
  },
  {
   "cell_type": "markdown",
   "metadata": {},
   "source": [
    "## Example Light Curves"
   ]
  },
  {
   "cell_type": "code",
   "execution_count": null,
   "metadata": {},
   "outputs": [],
   "source": [
    "fig, ((ax1, ax3), (ax2, ax4)) = plt.subplots(nrows=2, ncols=2, figsize=(16,8), \n",
    "                                             gridspec_kw={'width_ratios':[3,1]})\n",
    "\n",
    "highlight='#8f8e8d'\n",
    "\n",
    "inds = np.where(TICS==13955147)[0]\n",
    "ax1.set_title('TIC 13955147')\n",
    "for i in inds[0:1]:\n",
    "    ax1.scatter(QTIME[i], QFLUX[i], c=QPRED[i], vmin=0, vmax=1,\n",
    "                cmap=parula.reversed(), s=15)\n",
    "ax3.scatter(QTIME[inds[0]], QFLUX[inds[0]], c=QPRED[inds[0]], vmin=0, vmax=1,\n",
    "         cmap=parula.reversed(), s=25)\n",
    "ax1.set_ylim(0.98,1.02)\n",
    "ax3.set_ylim(0.99,1.01)\n",
    "#ax3.set_yticklabels([])\n",
    "ax3.set_xlim(1415.33, 1415.8)\n",
    "ax1.axvspan(1415.33, 1415.8, linewidth=12,  color=highlight, zorder=0)\n",
    "ax3.set_facecolor(highlight)\n",
    "ax3.set_xticks([1415.38, 1415.75])\n",
    "ax3.set_xticklabels(['1415.33', '1415.75'])\n",
    "    \n",
    "inds = np.where(TICS==269797536)[0]\n",
    "ax2.set_title('TIC 269797536')\n",
    "for i in inds[5:6]:\n",
    "    im = ax2.scatter(QTIME[i], QFLUX[i], c=QPRED[i], vmin=0, vmax=1,\n",
    "                     cmap=parula.reversed(),s=15)\n",
    "ax4.scatter(QTIME[inds[5]], QFLUX[inds[5]], c=QPRED[inds[5]], vmin=0, vmax=1,\n",
    "         cmap=parula.reversed(), s=25)\n",
    "ax2.set_ylim(0.93,1.2)    \n",
    "ax4.set_ylim(0.95,1.07)  \n",
    "#ax4.set_yticklabels([])\n",
    "ax4.set_xlim(1678,1679)\n",
    "ax2.axvspan(1678, 1679, linewidth=12, color=highlight, zorder=0)\n",
    "#ax4.set_xticks([1673.75, 1673.95])\n",
    "ax4.set_facecolor(highlight)\n",
    "#ax4.set_xticklabels(['1673.75', '1673.95'])\n",
    "\n",
    "ax1.set_ylabel('Normalized Flux',  y=-0.18, fontsize=24)\n",
    "ax2.set_xlabel('Time [BJD - 2457000]', fontsize=24)\n",
    "ax4.set_xlabel('Time [BJD - 2457000]', fontsize=24)\n",
    "\n",
    "ax1.set_rasterized(True)\n",
    "ax2.set_rasterized(True)\n",
    "ax3.set_rasterized(True)\n",
    "ax4.set_rasterized(True)\n",
    "\n",
    "fig.subplots_adjust(right=0.85, hspace=0.4, wspace=0.2)\n",
    "cbar_ax = fig.add_axes([0.87, 0.12, 0.02, 0.77])\n",
    "cbar = fig.colorbar(im, cax=cbar_ax)\n",
    "cbar.set_label('Probability', fontsize=24)\n",
    "\n",
    "plt.savefig(#'/Users/arcticfox/Documents/youngStars/presentationFigures/example_lcs.png',\n",
    "            '/Users/arcticfox/Documents/misc_presentations/exoplanets3/example_lcs.png',\n",
    "            rasterize=True, bbox_inches='tight', dpi=200)"
   ]
  },
  {
   "cell_type": "code",
   "execution_count": null,
   "metadata": {},
   "outputs": [],
   "source": [
    "count_dict = {}\n",
    "for i in np.arange(1,14,1):\n",
    "    count_dict[i] = 0\n",
    "    \n",
    "for t in np.unique(table['Target_ID']):\n",
    "    row = table[table['Target_ID']==t]\n",
    "    count_dict[int(len(row))] += 1"
   ]
  },
  {
   "cell_type": "code",
   "execution_count": null,
   "metadata": {},
   "outputs": [],
   "source": [
    "count_dict"
   ]
  },
  {
   "cell_type": "code",
   "execution_count": null,
   "metadata": {},
   "outputs": [],
   "source": [
    "len(np.unique(table['Target_ID']))"
   ]
  },
  {
   "cell_type": "code",
   "execution_count": null,
   "metadata": {},
   "outputs": [],
   "source": [
    "suum = 0\n",
    "for i in range(4,14):\n",
    "    suum+=count_dict[i]"
   ]
  },
  {
   "cell_type": "code",
   "execution_count": null,
   "metadata": {},
   "outputs": [],
   "source": [
    "suum"
   ]
  },
  {
   "cell_type": "markdown",
   "metadata": {},
   "source": [
    "## The Big Bois"
   ]
  },
  {
   "cell_type": "code",
   "execution_count": null,
   "metadata": {},
   "outputs": [],
   "source": [
    "fig, ((ax1,ax5), (ax2, ax6), (ax3,ax7), (ax4,ax8)) = plt.subplots(nrows=4, ncols=2, \n",
    "                                                                  figsize=(14,14),\n",
    "                                                                   gridspec_kw={'width_ratios':[1.5,1]})\n",
    "axes = [ax1,ax2,ax3,ax4]\n",
    "axes2= [ax5,ax6,ax7,ax8]\n",
    "z = -1\n",
    "\n",
    "letters = ['a', 'b', 'c', 'd']\n",
    "\n",
    "highlight='#e3dfdb'\n",
    "lowlim = [0.5, 0.95, 0.9, 0.95]\n",
    "upplim = [1.8, 1.2, 1.2, 1.2]\n",
    "loc = [1.63, 1.165, 1.155, 1.165]\n",
    "\n",
    "for tic in [24721262, 77954300, 206544316,44678751]:\n",
    "    where = np.argmax(flare_table[flare_table['Target_ID']==tic]['amp'])\n",
    "    tpeak = flare_table[flare_table['Target_ID']==tic]['tpeak'].data[where]\n",
    "    amp   = flare_table[flare_table['Target_ID']==tic]['amp'].data[where]\n",
    "    inds = np.where(TICS==tic)[0]\n",
    "\n",
    "    teff = table[table['Target_ID']==tic]['teff_val'][0]\n",
    "    age = table[table['Target_ID']==tic]['YMG_age'][0]\n",
    "    #plt.title('TIC {}, Teff={}'.format(tic, teff))\n",
    "\n",
    "    for i in inds:\n",
    "        q = ((TIME[i]>=tpeak-0.4) & (TIME[i]<=tpeak+0.4))\n",
    "        if len(TIME[i][q]) > 0:\n",
    "            print(tic, '$T_{eff} = ', int(teff), '$')\n",
    "            print(table[table['Target_ID']==tic]['YMG'][0], age)\n",
    "            ax = axes[np.abs(z)-1]\n",
    "            \n",
    "            diff = np.diff(TIME[i])\n",
    "            orbit = np.where(diff >= np.nanmedian(diff)+12*np.nanstd(diff))[0][0]\n",
    "\n",
    "            ax.vlines(tpeak, 0, 100, linewidth=22, color=highlight)\n",
    "            ax.plot(TIME[i][0:orbit-1], FLUX[i][0:orbit-1], \n",
    "                     linewidth=3, c=acolors[(np.abs(z))*2])\n",
    "            ax.plot(TIME[i][orbit+50:], FLUX[i][orbit+50:], \n",
    "                     linewidth=3, c=acolors[(np.abs(z))*2])\n",
    "            \n",
    "            ax.set_ylim(lowlim[int(np.abs(z)-1)], upplim[int(np.abs(z)-1)])\n",
    "            ax.set_xlim(TIME[i][0], TIME[i][-1])\n",
    "            ax.set_facecolor('w')\n",
    "            ax.text(TIME[i][100], loc[np.abs(z)-1], \n",
    "                    '({0}) {1} Myr'.format(letters[np.abs(z)-1].capitalize(), int(age)),\n",
    "                    fontsize=22, fontweight='bold')\n",
    "            \n",
    "            if np.abs(z)-1==1:\n",
    "                ax.set_ylabel('Normalized Flux', fontsize=28, y=-0.15)\n",
    "              #  ax.set_yticks([1,3,5])\n",
    "            if np.abs(z)-1==3:\n",
    "                ax.set_xlabel('Time [BJD - 2457000]', fontsize=28)\n",
    "              #  ax.set_yticks([1,5,10])\n",
    "            \n",
    "            ax = axes2[np.abs(z)-1]\n",
    "            ax.plot(TIME[i][q], FLUX[i][q],\n",
    "                     linewidth=3, c=acolors[(np.abs(z))*2])\n",
    "            ax.set_xlim(TIME[i][q][0],TIME[i][q][-1])\n",
    "            ax.set_xticks(np.round([tpeak-0.3, tpeak, tpeak+0.3],1))\n",
    "            ax.set_ylim(np.nanmin(FLUX[i])-0.2, amp+1.5)\n",
    "            ax.set_facecolor(highlight)\n",
    "            #ax.set_yticklabels([])\n",
    "            \n",
    "            if np.abs(z)-1==3:\n",
    "                ax.set_xlabel('Time [BJD - 2457000]', fontsize=28)\n",
    "                ax.set_yticks([1,5,10])\n",
    "            if np.abs(z)-1==1:\n",
    "                ax.set_yticks([1,3,5])\n",
    "            \n",
    "            \n",
    "   \n",
    "    #plt.xlim(tpeak-0.5, tpeak+0.5)\n",
    "    #plt.ylim(0.8, amp+1.5)\n",
    "    #plt.show()\n",
    "    z -= 1\n",
    "    \n",
    "plt.subplots_adjust(wspace=0.2, hspace=0.2)\n",
    "\n",
    "#plt.savefig('/Users/arcticfox/Documents/youngStars/southern_paper_figures/large_ones.pdf',\n",
    "#            rasterize=True, bbox_inches='tight', dpi=200)"
   ]
  },
  {
   "cell_type": "code",
   "execution_count": null,
   "metadata": {},
   "outputs": [],
   "source": [
    "table[(table['Target_ID']==24721262)]"
   ]
  },
  {
   "cell_type": "markdown",
   "metadata": {},
   "source": [
    "## Getting huge flare parameters"
   ]
  },
  {
   "cell_type": "code",
   "execution_count": null,
   "metadata": {},
   "outputs": [],
   "source": [
    "from astroquery.mast import Catalogs\n",
    "from astropy import units\n",
    "from astropy import constants\n",
    "from scipy.optimize import minimize\n",
    "from scipy.signal import medfilt\n",
    "from scipy.interpolate import interp1d"
   ]
  },
  {
   "cell_type": "code",
   "execution_count": null,
   "metadata": {},
   "outputs": [],
   "source": [
    "def chiSqure(args, x, y, e, tpeak):\n",
    "    amp, rise, fall = args\n",
    "    model, _ = stella.utils.flare_lightcurve(x, tpeak,\n",
    "                                             amp, rise,\n",
    "                                             fall)\n",
    "    return np.nansum((y-model)**2/e**2)"
   ]
  },
  {
   "cell_type": "code",
   "execution_count": null,
   "metadata": {},
   "outputs": [],
   "source": [
    "highEflares = [24721262, 77954300, 206544316,44678751]\n",
    "\n",
    "tmag_9000 = table[table['Target_ID']==467773371]['teff_val'][0]\n",
    "r = Catalogs.query_object('TIC467773371', catalog='TIC', radius=.02)[0]\n",
    "dist_9000 = r['d']\n",
    "tmag_9000 = r['Tmag']\n",
    "vmag_9000 = r['Vmag']\n",
    "print(tmag_9000, dist_9000, vmag_9000)\n",
    "\n",
    "# {\\displaystyle M=m-5\\log _{10}(d_{\\text{pc}})+5,}\n",
    "Tmag_9000 = tmag_9000 - 5 * np.log10(dist_9000) + 5\n",
    "print(Tmag_9000, vmag_9000)"
   ]
  },
  {
   "cell_type": "code",
   "execution_count": null,
   "metadata": {},
   "outputs": [],
   "source": [
    "def to_tmag(V, J, H):\n",
    "    return V - 0.28408*(J - H)**3 + 0.75955*(J - H)**2 - 1.96827*(J - H) - 0.1140 #(Stassun, 2017)"
   ]
  },
  {
   "cell_type": "code",
   "execution_count": null,
   "metadata": {},
   "outputs": [],
   "source": [
    "for hef in highEflares[0:1]:\n",
    "    inds = np.where(TICS==hef)[0]\n",
    "    subtab = flare_table[(flare_table['Target_ID']==hef) & (flare_table['amp']>2)][0]\n",
    "    \n",
    "    for i in inds:\n",
    "        q = ((TIME[i]>=subtab['tpeak']-0.4) & (TIME[i]<=subtab['tpeak']+0.4))\n",
    "        \n",
    "        if len(TIME[i][q]) > 0:\n",
    "            argwhere = np.where(TIME[i][q]==subtab['tpeak'])[0]\n",
    "            m = np.append(np.arange(0,argwhere-5,1,dtype=int),\n",
    "                          np.arange(argwhere+10,len(TIME[i][q]),1,dtype=int))\n",
    "            \n",
    "            dur = subtab['dur']#[0]\n",
    "            dur = (dur * u.day).to(u.s)\n",
    "            amp = subtab['amp']#[0]\n",
    "            r = Catalogs.query_object('TIC{}'.format(hef), catalog='TIC', radius=.02)[0]\n",
    "            lum = (r['lum'] * u.Lsun).to(u.erg/u.s)\n",
    "\n",
    "            flare_mag = np.abs(2.5*np.log10(amp+1) - r['Tmag'])\n",
    "\n",
    "            print(to_tmag(r['Vmag'], r['Jmag'], r['Hmag']) - flare_mag)\n",
    "           # print(to_tmag(r['Vmag'], r['Jmag'], r['Hmag']))\n",
    "\n",
    "            x = minimize(chiSqure, x0=(subtab['amp'], subtab['rise'], subtab['fall']),\n",
    "                         args=(TIME[i][q], FLUX[i][q], np.ones(len(FLUX[i][q])), argwhere),\n",
    "                         method='L-BFGS-B')\n",
    "                               \n",
    "            model, params = stella.utils.flare_lightcurve(TIME[i][q], argwhere,\n",
    "                                                 x.x[0], x.x[1],\n",
    "                                                 x.x[2])\n",
    "            time = (TIME[i][q] * u.day).to(u.hour)\n",
    "            dur = np.abs(np.sum(model[model!=1][1:] * np.diff(time[model!=1]) ))\n",
    "            print(lum*subtab['amp'], lum)\n",
    "            plt.plot(TIME[i][q], model, 'r', linewidth=3)\n",
    "            plt.plot(TIME[i][q], FLUX[i][q], 'k')\n",
    "            plt.title(hef)\n",
    "            plt.show()"
   ]
  },
  {
   "cell_type": "code",
   "execution_count": null,
   "metadata": {},
   "outputs": [],
   "source": [
    "dur"
   ]
  },
  {
   "cell_type": "code",
   "execution_count": null,
   "metadata": {},
   "outputs": [],
   "source": [
    "lum, lum*crossmatch['amp']*dur.to(uni.s)"
   ]
  },
  {
   "cell_type": "markdown",
   "metadata": {},
   "source": [
    "## Examples for Rotation Flagging"
   ]
  },
  {
   "cell_type": "code",
   "execution_count": null,
   "metadata": {},
   "outputs": [],
   "source": [
    "fig, ((ax1,ax5), (ax2, ax6), (ax3,ax7), (ax4,ax8)) = plt.subplots(nrows=4, ncols=2, \n",
    "                                                                  figsize=(14,14),\n",
    "                                                                  gridspec_kw={'width_ratios':[1.5,1]})\n",
    "axes = [ax1,ax2,ax3,ax4]\n",
    "axes2= [ax5,ax6,ax7,ax8]\n",
    "z = -1\n",
    "\n",
    "letters = ['(A)', '(B)', '(C)', '(D)']\n",
    "loc = [1.007, 1.003,1.014,1.056]\n",
    "\n",
    "for tic in [3837491, 408017296, 250419751, 1273249]:\n",
    "    inds = np.where(TICS==tic)[0]\n",
    "    for i in inds[0:1]:\n",
    "        ax = axes[np.abs(z)-1]\n",
    "        \n",
    "        diff = np.diff(QTIME[i])\n",
    "        orbit = np.where(diff >= np.nanmedian(diff)+12*np.nanstd(diff))[0]\n",
    "        steps = np.append([0,len(QFLUX[i])], orbit)\n",
    "        steps = np.sort(steps)\n",
    "        for s in range(len(steps)-1):\n",
    "            ax.plot(QTIME[i][steps[s]+5:steps[s+1]], QFLUX[i][steps[s]+5:steps[s+1]], \n",
    "                     linewidth=3, c=colors[(np.abs(z))])\n",
    "           # ax.plot(QTIME[i][orbit+50:], QFLUX[i][orbit+50:], \n",
    "           #          linewidth=3, c=colors[(np.abs(z))])\n",
    "\n",
    "        ax.text(QTIME[i][100], loc[np.abs(z)-1], letters[np.abs(z)-1],\n",
    "                fontsize=22, fontweight='bold')\n",
    "        ax.set_xlim(QTIME[i][0], QTIME[i][-1])\n",
    "        ax.set_ylim(np.nanmin(QFLUX[i]), np.nanmax(QFLUX[i])+0.002)\n",
    "        ax.set_yticks(np.round([np.nanmin(QFLUX[i]), (np.nanmin(QFLUX[i])+np.nanmax(QFLUX[i]))/2,\n",
    "                                np.nanmax(QFLUX[i])],3))\n",
    "        print((QFLUX[i][-1]+QFLUX[i][0])/2, QFLUX[i][-1]+QFLUX[i][0])\n",
    "        if np.abs(z)-1==1:\n",
    "         #   ax.set_ylim(0.97,1.03)\n",
    "            ax.set_ylabel('Normalized Flux', fontsize=28, y=-0.2)\n",
    "        if np.abs(z)-1==3:\n",
    "            ax.set_xlabel('Time [BJD - 2457000]', fontsize=28)\n",
    "        \n",
    "        ax = axes2[np.abs(z)-1]\n",
    "        freq, power = LombScargle(QTIME[i], QFLUX[i]).autopower(minimum_frequency=1/12.,\n",
    "                                                               maximum_frequency=1/0.1,\n",
    "                                                               samples_per_peak=50.)\n",
    "        ax.plot(1/freq, power, linewidth=3, c=colors[(np.abs(z))])\n",
    "        ax.set_yticks(np.round([0, power[np.argmax(power)]/2., power[np.argmax(power)]],2))\n",
    "        if np.abs(z)-1==1:\n",
    "            ax.set_ylabel('Lomb-Scargle Power', fontsize=28, y=-0.2)\n",
    "        if np.abs(z)-1==3:\n",
    "            ax.set_xlabel('Period [Days]', fontsize=28)\n",
    "    z -= 1\n",
    "    \n",
    "plt.subplots_adjust(hspace=0.3, wspace=0.35)\n",
    "plt.savefig('/Users/arcticfox/Documents/youngStars/southern_paper_figures/rot_cuts.pdf',\n",
    "            rasterize=True, bbox_inches='tight', dpi=200)"
   ]
  },
  {
   "cell_type": "markdown",
   "metadata": {},
   "source": [
    "## Mass vs. LFlare"
   ]
  },
  {
   "cell_type": "code",
   "execution_count": null,
   "metadata": {},
   "outputs": [],
   "source": [
    "all_flare_energies = []\n",
    "all_masses = []\n",
    "#all_probs = np.zeros(len(flare_table))\n",
    "\n",
    "for a in range(len(flare_table)):\n",
    "    \n",
    "    dur = flare_table['dur_min'].data[a] * uni.min\n",
    "    flare = (flare_table['amp'].data[a]*lum*dur*scale).to(uni.erg)\n",
    "    \n",
    "    tic = flare_table['Target_ID'].data[a]\n",
    "    \n",
    "    try:\n",
    "        lum = table[table['Target_ID'] == tic]['tess_lum'].data[0]*uni.erg/uni.s\n",
    "        scale = table[table['Target_ID'] == tic]['scaling'].data[0]\n",
    "        mass = table[table['Target_ID'] == tic]['mass'].data[0]\n",
    "        \n",
    "        all_flare_energies.append(flare.value)\n",
    "        all_masses.append(mass)\n",
    "    except IndexError:\n",
    "        print(tic)\n",
    "\n",
    "    \n",
    "       # all_probs[a] = flare_table['prob'].data[a]"
   ]
  },
  {
   "cell_type": "code",
   "execution_count": null,
   "metadata": {},
   "outputs": [],
   "source": []
  },
  {
   "cell_type": "code",
   "execution_count": null,
   "metadata": {},
   "outputs": [],
   "source": [
    "fig, ax = plt.subplots(figsize=(10,8))\n",
    "plt.plot(all_masses, all_flare_energies, '.')#, c=all_probs)\n",
    "plt.yscale('log')\n",
    "\n",
    "ax.set_xlim(2, 0.28)\n",
    "ticks = [1.66, 1.13, 0.86, 0.73, 0.62, 0.47, 0.28]\n",
    "ax.set_xticks(ticks)\n",
    "ax.set_xticklabels([str(e) for e in ticks]);"
   ]
  },
  {
   "cell_type": "markdown",
   "metadata": {},
   "source": [
    "## Crossmatch with Proposals"
   ]
  },
  {
   "cell_type": "code",
   "execution_count": null,
   "metadata": {},
   "outputs": [],
   "source": [
    "from astropy.table import vstack"
   ]
  },
  {
   "cell_type": "code",
   "execution_count": null,
   "metadata": {},
   "outputs": [],
   "source": [
    "uni_tics = np.unique(table['Target_ID'])"
   ]
  },
  {
   "cell_type": "code",
   "execution_count": null,
   "metadata": {},
   "outputs": [],
   "source": [
    "prog_tab = Table()\n",
    "prog_tab.add_column(Column(uni_tics, 'Target_ID'))"
   ]
  },
  {
   "cell_type": "code",
   "execution_count": null,
   "metadata": {},
   "outputs": [],
   "source": [
    "program_dir = '/Users/arcticfox/Desktop/GI_programs/'\n",
    "programs = os.listdir(program_dir)\n",
    "\n",
    "for i in range(len(programs)):\n",
    "    if i == 0:\n",
    "        ex = Table.read(os.path.join(program_dir, programs[i]))\n",
    "    else:\n",
    "        temp = Table.read(os.path.join(program_dir, programs[i]))\n",
    "        ex = vstack([ex, temp])"
   ]
  },
  {
   "cell_type": "code",
   "execution_count": null,
   "metadata": {},
   "outputs": [],
   "source": [
    "programcol = np.zeros(len(prog_tab), dtype=np.dtype('U64'))\n",
    "for i in range(len(prog_tab)):\n",
    "    where = np.where(ex['TICID']==prog_tab['Target_ID'].data[i])[0]\n",
    "    if len(where) > 0:\n",
    "        programcol[i] = ex['Keywords'].data[i]\n",
    "    else:\n",
    "        programcol[i] = 'None'\n",
    "prog_tab.add_column(Column(programcol, name='Program'))"
   ]
  },
  {
   "cell_type": "code",
   "execution_count": null,
   "metadata": {},
   "outputs": [],
   "source": [
    "indi_progs = np.array([], dtype=np.dtype('U64'))\n",
    "for p in np.unique(prog_tab['Program']):\n",
    "    if ';' in p:\n",
    "        temp = p.split(';')\n",
    "        for t in temp:\n",
    "            if t[0:2]=='G0':\n",
    "                indi_progs = np.append(indi_progs, t)\n",
    "    else:\n",
    "        if p[0:2]=='G0':\n",
    "            indi_progs = np.append(indi_progs, p)"
   ]
  },
  {
   "cell_type": "code",
   "execution_count": null,
   "metadata": {},
   "outputs": [],
   "source": [
    "for u in np.unique(indi_progs):\n",
    "    print(u, len(np.where(indi_progs==u)[0]))"
   ]
  },
  {
   "cell_type": "code",
   "execution_count": null,
   "metadata": {},
   "outputs": [],
   "source": [
    "master = Table.read('/Users/arcticfox/Documents/youngStars/ymg_catalog.txt',\n",
    "                   format='ascii')"
   ]
  },
  {
   "cell_type": "code",
   "execution_count": null,
   "metadata": {},
   "outputs": [],
   "source": [
    "liz_table = Table()\n",
    "liz_table.add_column(Column(table[table['Flags']<2]['Target_ID'], 'TIC'))\n",
    "liz_table.add_column(Column(table[table['Flags']<2]['teff_val'], 'Teff'))\n",
    "liz_table.add_column(Column(table[table['Flags']<2]['weighted_rate'], 'flares_per_day'))\n",
    "liz_table.add_column(Column(table[table['Flags']<2]['avg_period_days'], 'period_days'))\n",
    "liz_table.add_column(Column(table[table['Flags']<2]['rad'], 'rad'))\n",
    "liz_table.add_column(Column(table[table['Flags']<2]['Nflares_large']+table[table['Flags']<2]['Nflares_small'], 'Nflares'))"
   ]
  },
  {
   "cell_type": "code",
   "execution_count": null,
   "metadata": {},
   "outputs": [],
   "source": [
    "import astropy"
   ]
  },
  {
   "cell_type": "code",
   "execution_count": null,
   "metadata": {},
   "outputs": [],
   "source": [
    "liz_tab = astropy.table.unique(liz_table, 'TIC')"
   ]
  },
  {
   "cell_type": "code",
   "execution_count": null,
   "metadata": {},
   "outputs": [],
   "source": [
    "liz_tab.write('/Users/arcticfox/Desktop/feinstein2020.txt', format='csv')"
   ]
  },
  {
   "cell_type": "code",
   "execution_count": null,
   "metadata": {},
   "outputs": [],
   "source": []
  },
  {
   "cell_type": "code",
   "execution_count": null,
   "metadata": {},
   "outputs": [],
   "source": []
  },
  {
   "cell_type": "code",
   "execution_count": null,
   "metadata": {},
   "outputs": [],
   "source": []
  }
 ],
 "metadata": {
  "kernelspec": {
   "display_name": "Python 3",
   "language": "python",
   "name": "python3"
  },
  "language_info": {
   "codemirror_mode": {
    "name": "ipython",
    "version": 3
   },
   "file_extension": ".py",
   "mimetype": "text/x-python",
   "name": "python",
   "nbconvert_exporter": "python",
   "pygments_lexer": "ipython3",
   "version": "3.7.3"
  }
 },
 "nbformat": 4,
 "nbformat_minor": 2
}
