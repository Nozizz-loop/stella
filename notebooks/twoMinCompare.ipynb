{
 "cells": [
  {
   "cell_type": "code",
   "execution_count": 1,
   "metadata": {},
   "outputs": [
    {
     "name": "stderr",
     "output_type": "stream",
     "text": [
      "/anaconda3/lib/python3.6/site-packages/h5py/__init__.py:36: FutureWarning: Conversion of the second argument of issubdtype from `float` to `np.floating` is deprecated. In future, it will be treated as `np.float64 == np.dtype(float).type`.\n",
      "  from ._conv import register_converters as _register_converters\n"
     ]
    }
   ],
   "source": [
    "import pandas as pd\n",
    "import numpy as np\n",
    "import matplotlib.pyplot as plt\n",
    "from astropy.table import Table\n",
    "import os\n",
    "from astropy.stats import sigma_clip\n",
    "from stella import YoungStars\n",
    "from altaipony.flarelc import FlareLightCurve\n",
    "\n",
    "from lightkurve.search import search_targetpixelfile\n",
    "from lightkurve.targetpixelfile import TessTargetPixelFile as TTPF\n",
    "from lightkurve.lightcurve import LightCurve as LC\n",
    "\n",
    "from tess_stars2px import tess_stars2px_function_entry as tess_stars2px\n",
    "\n",
    "directory = '/Users/AdinaFeinstein/Documents/young_stars'"
   ]
  },
  {
   "cell_type": "code",
   "execution_count": null,
   "metadata": {},
   "outputs": [],
   "source": [
    "f = pd.read_csv('flare_parameters.csv')\n",
    "tics = np.unique(f['TIC'])\n",
    "\n",
    "result = search_targetpixelfile(25118964, mission='TESS')\n",
    "\n",
    "lk_collection = result.download_all()"
   ]
  },
  {
   "cell_type": "code",
   "execution_count": null,
   "metadata": {},
   "outputs": [],
   "source": [
    "short_time, short_lc = np.array([]), np.array([])\n",
    "short_err = np.array([])\n",
    "quality_flags = np.array([])\n",
    "\n",
    "for i in range(len(lk_collection)):\n",
    "    j = lk_collection[i].to_lightcurve()#.flatten(window_length=15)\n",
    "    if (len(j.time) != len(j.flux)):\n",
    "        print('bad sector')\n",
    "        \n",
    "    short_time    = np.append(short_time, j.time)\n",
    "    short_lc      = np.append(short_lc, j.flux/np.nanmedian(j.flux))\n",
    "    short_err     = np.append(short_err, j.flux_err/np.nanmedian(j.flux))\n",
    "    quality_flags = np.append(quality_flags, j.quality)\n",
    "\n",
    "\n",
    "short_time, short_lc   = zip(*sorted(zip(short_time, short_lc)))\n",
    "short_time, short_err  = zip(*sorted(zip(short_time, short_err)))\n",
    "short_time, short_flux = np.array(short_time), np.array(short_lc)\n",
    "short_err = np.array(short_err)"
   ]
  },
  {
   "cell_type": "code",
   "execution_count": null,
   "metadata": {},
   "outputs": [],
   "source": [
    "files = os.listdir(directory)\n",
    "files = [i for i in files if str(25118964) in i]\n",
    "ys = YoungStars(fn=files, fn_dir=directory)\n",
    "ys.savitsky_golay(window_length=15)\n",
    "ys.identify_flares(method=\"savitsky-golay\")"
   ]
  },
  {
   "cell_type": "code",
   "execution_count": null,
   "metadata": {},
   "outputs": [],
   "source": [
    "plt.rcParams['font.size'] = 15\n",
    "\n",
    "plt.figure(figsize=(14,8))\n",
    "plt.plot(ys.time, ys.norm_flux, 'k', linewidth=1, alpha=0.8, label='You')\n",
    "\n",
    "plt.plot(short_time, short_flux+0.05, c='darkorange', linewidth=1, label='The guy she tells you not to worry about')\n",
    "plt.ylim(0.9,1.2)\n",
    "plt.legend()\n",
    "plt.ylabel('Normalized Flux')\n",
    "plt.xlabel('Time (BJD-2457000)')\n",
    "plt.xlim(1350,1365);"
   ]
  },
  {
   "cell_type": "code",
   "execution_count": null,
   "metadata": {},
   "outputs": [],
   "source": [
    "lk = LC(short_time, short_flux, flux_err=short_err).flatten(window_length=255)\n",
    "\n",
    "flc = FlareLightCurve(time=short_time, flux=short_flux, flux_err=short_err,\n",
    "                      detrended_flux=lk.flux, detrended_flux_err=lk.flux_err)\n",
    "flc_result = flc.find_flares(N1=3, N2=1, N3=2)\n",
    "#result = result.characterize_flares(N1=3, N2=1, N3=2)\n",
    "#result.flares"
   ]
  },
  {
   "cell_type": "code",
   "execution_count": null,
   "metadata": {},
   "outputs": [],
   "source": [
    "def plot_flares(time, flux, flares, mask=None, flare_mask=None):\n",
    "    if mask is None:\n",
    "        mask = np.ones(len(flux), dtype=bool)\n",
    "    if flare_mask is None:\n",
    "        flare_mask = np.ones(len(flares), dtype=bool)\n",
    "        \n",
    "    subflares = flares[flare_mask]\n",
    "        \n",
    "    plt.figure(figsize=(20,8))\n",
    "    plt.plot(time[mask], flux[mask], 'k', alpha=0.8, linewidth=3)\n",
    "\n",
    "    y = np.linspace(0,2,10)\n",
    "    \n",
    "    for t in range(len(subflares)):\n",
    "        f = ((time[mask] >= subflares.tstart[t]) & (time[mask] <= subflares.tstop[t]))\n",
    "        \n",
    "        if len(np.where(f==True)[0]) > 0.0:\n",
    "            midpoint = np.sum(time[mask][f])/len(time[mask][f])\n",
    "            plt.plot( np.full(len(y), midpoint), y, c='xkcd:forest green', alpha=0.3, linewidth=3)  \n",
    "        else:\n",
    "            f = ((time[mask] >= subflares.tstart[t]-0.2) & (time[mask] <= subflares.tstop[t]+0.2))\n",
    "            midpoint = np.sum(time[mask][f])/len(time[mask][f])\n",
    "            plt.plot( np.full(len(y), midpoint), y, c='xkcd:lavender', alpha=0.5, linewidth=3)\n",
    "            \n",
    "    plt.ylim(0.98, 1.06)\n",
    "    plt.show()"
   ]
  },
  {
   "cell_type": "code",
   "execution_count": null,
   "metadata": {},
   "outputs": [],
   "source": [
    "def my_flares(flux, median, error, sigma=2.5, N3=2):\n",
    "    isflare = np.zeros_like(flux, dtype=bool)\n",
    "\n",
    "    peaks = sigma_clip(flux, sigma=sigma)\n",
    "    mask  = peaks.mask\n",
    "    \n",
    "    passed  = np.zeros_like(flux, dtype=int)\n",
    "    isflare = np.where((mask==True) & ((flux-median) > 0.) & (flux > (np.std(flux)+median)) )[0]\n",
    "    passed[isflare] = 1\n",
    "    return isflare"
   ]
  },
  {
   "cell_type": "code",
   "execution_count": null,
   "metadata": {},
   "outputs": [],
   "source": [
    "time_mask = ((flc_result.time > 1340.) & (flc_result.time < 1350.))\n",
    "\n",
    "sigma_cut = sigma_clip(flc_result.detrended_flux[time_mask], sigma=2.5, maxiters=5)\n",
    "sigma_mask = sigma_cut.mask\n",
    "\n",
    "time, flux, flux_err = flc_result.time[time_mask], flc_result.detrended_flux[time_mask], lk.flux_err[time_mask]\n",
    "median     = np.full(len(time), np.nanmedian(flux[sigma_mask]))\n",
    "\n",
    "myflur = my_flares(flux, median, flux_err)\n",
    "\n",
    "plt.figure(figsize=(20,8))\n",
    "plt.plot(time, flux, 'k')\n",
    "\n",
    "plt.plot(time[myflur], flux[myflur], 'r.', ms=15)\n",
    "plt.show()"
   ]
  },
  {
   "cell_type": "code",
   "execution_count": null,
   "metadata": {},
   "outputs": [],
   "source": [
    "# Look around breaks in data\n",
    "# Look around momentum dumps\n",
    "#\n",
    "\n",
    "flc_result.flares"
   ]
  }
 ],
 "metadata": {
  "kernelspec": {
   "display_name": "Python 3",
   "language": "python",
   "name": "python3"
  },
  "language_info": {
   "codemirror_mode": {
    "name": "ipython",
    "version": 3
   },
   "file_extension": ".py",
   "mimetype": "text/x-python",
   "name": "python",
   "nbconvert_exporter": "python",
   "pygments_lexer": "ipython3",
   "version": "3.6.5"
  }
 },
 "nbformat": 4,
 "nbformat_minor": 2
}
