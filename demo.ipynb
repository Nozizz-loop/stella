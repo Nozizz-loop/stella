{
 "cells": [
  {
   "cell_type": "code",
   "execution_count": 1,
   "metadata": {
    "scrolled": true
   },
   "outputs": [
    {
     "name": "stdout",
     "output_type": "stream",
     "text": [
      "Created TAP+ (v1.0.1) - Connection:\n",
      "\tHost: gea.esac.esa.int\n",
      "\tUse HTTPS: False\n",
      "\tPort: 80\n",
      "\tSSL Port: 443\n"
     ]
    },
    {
     "name": "stderr",
     "output_type": "stream",
     "text": [
      "/anaconda3/lib/python3.6/site-packages/h5py/__init__.py:36: FutureWarning: Conversion of the second argument of issubdtype from `float` to `np.floating` is deprecated. In future, it will be treated as `np.float64 == np.dtype(float).type`.\n",
      "  from ._conv import register_converters as _register_converters\n"
     ]
    }
   ],
   "source": [
    "from sally import YoungStars\n",
    "import os\n",
    "from tqdm import trange\n",
    "import numpy as np\n",
    "import matplotlib.pyplot as plt\n",
    "from astropy.stats import sigma_clip"
   ]
  },
  {
   "cell_type": "code",
   "execution_count": 7,
   "metadata": {},
   "outputs": [],
   "source": [
    "directory = '/Users/AdinaFeinstein/Documents/young_stars'\n",
    "files = [i for i in os.listdir(directory) if 'hlsp' in i]"
   ]
  },
  {
   "cell_type": "code",
   "execution_count": 9,
   "metadata": {},
   "outputs": [],
   "source": [
    "temps, rotation = [], []\n",
    "groups, tics = [], []\n",
    "\n",
    "for fn in files:\n",
    "    f = fn.split('tic')[1]\n",
    "    tic = f.split('_')[0]\n",
    "    tics.append(tic)\n",
    "tics = np.unique(tics)\n",
    "for t in tics:\n",
    "    subset = [i for i in files if str(t) in i]\n",
    "    groups.append(subset)"
   ]
  },
  {
   "cell_type": "code",
   "execution_count": 30,
   "metadata": {
    "deletable": false,
    "editable": false,
    "run_control": {
     "frozen": true
    }
   },
   "outputs": [
    {
     "name": "stderr",
     "output_type": "stream",
     "text": [
      "100%|██████████| 312/312 [08:58<00:00,  1.46s/it]\n"
     ]
    }
   ],
   "source": [
    "for i in trange(len(groups)):\n",
    "    ys = YoungStars(fn=groups[i], fn_dir='.')\n",
    "    temps.append(ys.teff)\n",
    "    rotation.append(ys.p_rot)"
   ]
  },
  {
   "cell_type": "code",
   "execution_count": 4,
   "metadata": {
    "deletable": false,
    "editable": false,
    "run_control": {
     "frozen": true
    }
   },
   "outputs": [
    {
     "data": {
      "image/png": "[encoded data removed]",
      "text/plain": [
       "<Figure size 432x288 with 1 Axes>"
      ]
     },
     "metadata": {},
     "output_type": "display_data"
    }
   ],
   "source": [
    "temps = np.array(temps)\n",
    "rotation = np.array(rotation)\n",
    "\n",
    "plt.plot(temps, rotation, 'k.')\n",
    "plt.xlim(4750, 2500)\n",
    "plt.yscale('log')\n",
    "plt.show()"
   ]
  },
  {
   "cell_type": "code",
   "execution_count": 11,
   "metadata": {},
   "outputs": [
    {
     "data": {
      "text/plain": [
       "['hlsp_eleanor_tess_ffi_tic134328164_s08_tess_v0.2.0_lc.fits',\n",
       " 'hlsp_eleanor_tess_ffi_tic134328164_s07_tess_v0.2.0_lc.fits']"
      ]
     },
     "execution_count": 11,
     "metadata": {},
     "output_type": "execute_result"
    }
   ],
   "source": [
    "groups[19]"
   ]
  },
  {
   "cell_type": "code",
   "execution_count": 12,
   "metadata": {},
   "outputs": [
    {
     "name": "stderr",
     "output_type": "stream",
     "text": [
      "/Users/AdinaFeinstein/Documents/young_stars/sally/sally/flare_business.py:63: ResourceWarning: unclosed file <_io.FileIO name='/Users/AdinaFeinstein/Documents/young_stars/hlsp_eleanor_tess_ffi_tic134328164_s08_tess_v0.2.0_lc.fits' mode='rb' closefd=True>\n",
      "  s = eleanor.Source(fn=fn, fn_dir=self.directory)\n",
      "/anaconda3/lib/python3.6/site-packages/eleanor/targetdata.py:134: ResourceWarning: unclosed file <_io.FileIO name='/Users/AdinaFeinstein/Documents/young_stars/hlsp_eleanor_tess_ffi_tic134328164_s08_tess_v0.2.0_lc.fits' mode='rb' closefd=True>\n",
      "  self.load(directory=self.source_info.fn_dir)\n",
      "/Users/AdinaFeinstein/Documents/young_stars/sally/sally/flare_business.py:63: ResourceWarning: unclosed file <_io.FileIO name='/Users/AdinaFeinstein/Documents/young_stars/hlsp_eleanor_tess_ffi_tic134328164_s07_tess_v0.2.0_lc.fits' mode='rb' closefd=True>\n",
      "  s = eleanor.Source(fn=fn, fn_dir=self.directory)\n",
      "/anaconda3/lib/python3.6/site-packages/eleanor/targetdata.py:134: ResourceWarning: unclosed file <_io.FileIO name='/Users/AdinaFeinstein/Documents/young_stars/hlsp_eleanor_tess_ffi_tic134328164_s07_tess_v0.2.0_lc.fits' mode='rb' closefd=True>\n",
      "  self.load(directory=self.source_info.fn_dir)\n"
     ]
    }
   ],
   "source": [
    "ys = YoungStars(fn=groups[19], fn_dir=directory)"
   ]
  },
  {
   "cell_type": "code",
   "execution_count": null,
   "metadata": {},
   "outputs": [],
   "source": [
    "filtered = sigma_clip(ys.norm_flux, sigma=2.5, maxiters=8)\n",
    "plt.plot(ys.time[~filtered.mask], ys.norm_flux[~filtered.mask], '.')\n",
    "#plt.plot(ys.time[np.array([355,357,697])], ys.norm_flux[np.array([355,357,697])], 'k.', ms=15)"
   ]
  },
  {
   "cell_type": "code",
   "execution_count": null,
   "metadata": {
    "scrolled": false
   },
   "outputs": [],
   "source": [
    "#ys.savitsky_golay()\n",
    "ys.gp_modeling()"
   ]
  },
  {
   "cell_type": "code",
   "execution_count": null,
   "metadata": {},
   "outputs": [],
   "source": [
    "plt.figure(figsize=(14,8))\n",
    "gp = ys.gp_model*1e3+1\n",
    "plt.plot(ys.time[~ys.mask], ys.norm_flux[~ys.mask], 'k', alpha=0.8,\n",
    "        linewidth=5)\n",
    "plt.plot(ys.time, gp, c='orange', linewidth=3)\n",
    "plt.plot(ys.time, ys.norm_flux[~ys.mask]-gp+0.9, c='turquoise')"
   ]
  },
  {
   "cell_type": "code",
   "execution_count": null,
   "metadata": {},
   "outputs": [],
   "source": []
  },
  {
   "cell_type": "code",
   "execution_count": null,
   "metadata": {},
   "outputs": [],
   "source": []
  },
  {
   "cell_type": "code",
   "execution_count": null,
   "metadata": {},
   "outputs": [],
   "source": []
  }
 ],
 "metadata": {
  "kernelspec": {
   "display_name": "Python 3",
   "language": "python",
   "name": "python3"
  },
  "language_info": {
   "codemirror_mode": {
    "name": "ipython",
    "version": 3
   },
   "file_extension": ".py",
   "mimetype": "text/x-python",
   "name": "python",
   "nbconvert_exporter": "python",
   "pygments_lexer": "ipython3",
   "version": "3.6.5"
  }
 },
 "nbformat": 4,
 "nbformat_minor": 2
}
